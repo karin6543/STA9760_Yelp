{
 "cells": [
  {
   "cell_type": "markdown",
   "metadata": {},
   "source": [
    "# STA9760 Project 2 - Yelp Data - Xuming Shi"
   ]
  },
  {
   "cell_type": "code",
   "execution_count": 1,
   "metadata": {},
   "outputs": [
    {
     "data": {
      "text/html": [
       "Current session configs: <tt>{'conf': {'spark.pyspark.python': 'python3', 'spark.pyspark.virtualenv.enabled': 'true', 'spark.pyspark.virtualenv.type': 'native', 'spark.pyspark.virtualenv.bin.path': '/usr/bin/virtualenv'}, 'kind': 'spark'}</tt><br>"
      ],
      "text/plain": [
       "<IPython.core.display.HTML object>"
      ]
     },
     "metadata": {},
     "output_type": "display_data"
    },
    {
     "data": {
      "text/html": [
       "No active sessions."
      ],
      "text/plain": [
       "<IPython.core.display.HTML object>"
      ]
     },
     "metadata": {},
     "output_type": "display_data"
    }
   ],
   "source": [
    "%info\n"
   ]
  },
  {
   "cell_type": "code",
   "execution_count": 1,
   "metadata": {},
   "outputs": [
    {
     "data": {
      "application/vnd.jupyter.widget-view+json": {
       "model_id": "af2e91f7c74d43958d0256bcbb5ccb75",
       "version_major": 2,
       "version_minor": 0
      },
      "text/plain": [
       "VBox()"
      ]
     },
     "metadata": {},
     "output_type": "display_data"
    },
    {
     "name": "stdout",
     "output_type": "stream",
     "text": [
      "Starting Spark application\n"
     ]
    },
    {
     "data": {
      "text/html": [
       "<table>\n",
       "<tr><th>ID</th><th>YARN Application ID</th><th>Kind</th><th>State</th><th>Spark UI</th><th>Driver log</th><th>Current session?</th></tr><tr><td>3</td><td>application_1588125847343_0004</td><td>pyspark</td><td>idle</td><td></td><td></td><td>✔</td></tr></table>"
      ],
      "text/plain": [
       "<IPython.core.display.HTML object>"
      ]
     },
     "metadata": {},
     "output_type": "display_data"
    },
    {
     "data": {
      "application/vnd.jupyter.widget-view+json": {
       "model_id": "",
       "version_major": 2,
       "version_minor": 0
      },
      "text/plain": [
       "FloatProgress(value=0.0, bar_style='info', description='Progress:', layout=Layout(height='25px', width='50%'),…"
      ]
     },
     "metadata": {},
     "output_type": "display_data"
    },
    {
     "name": "stdout",
     "output_type": "stream",
     "text": [
      "SparkSession available as 'spark'.\n"
     ]
    },
    {
     "data": {
      "application/vnd.jupyter.widget-view+json": {
       "model_id": "",
       "version_major": 2,
       "version_minor": 0
      },
      "text/plain": [
       "FloatProgress(value=0.0, bar_style='info', description='Progress:', layout=Layout(height='25px', width='50%'),…"
      ]
     },
     "metadata": {},
     "output_type": "display_data"
    },
    {
     "name": "stdout",
     "output_type": "stream",
     "text": [
      "Package                    Version\n",
      "-------------------------- -------\n",
      "beautifulsoup4             4.8.1\n",
      "boto                       2.49.0\n",
      "jmespath                   0.9.4\n",
      "lxml                       4.4.2\n",
      "mysqlclient                1.4.6\n",
      "nltk                       3.4.5\n",
      "nose                       1.3.4\n",
      "numpy                      1.14.5\n",
      "pip                        20.1\n",
      "py-dateutil                2.2\n",
      "python36-sagemaker-pyspark 1.2.6\n",
      "pytz                       2019.3\n",
      "PyYAML                     3.11\n",
      "setuptools                 46.1.3\n",
      "six                        1.13.0\n",
      "soupsieve                  1.9.5\n",
      "wheel                      0.34.2\n",
      "windmill                   1.6"
     ]
    }
   ],
   "source": [
    "sc.list_packages()"
   ]
  },
  {
   "cell_type": "markdown",
   "metadata": {},
   "source": [
    "# Part I - Set-Ups"
   ]
  },
  {
   "cell_type": "markdown",
   "metadata": {},
   "source": [
    "## 1. Install Libraries "
   ]
  },
  {
   "cell_type": "code",
   "execution_count": 3,
   "metadata": {},
   "outputs": [
    {
     "data": {
      "application/vnd.jupyter.widget-view+json": {
       "model_id": "6ceb6cfe75bc4091b5e03a60e9be3b4d",
       "version_major": 2,
       "version_minor": 0
      },
      "text/plain": [
       "VBox()"
      ]
     },
     "metadata": {},
     "output_type": "display_data"
    },
    {
     "data": {
      "application/vnd.jupyter.widget-view+json": {
       "model_id": "",
       "version_major": 2,
       "version_minor": 0
      },
      "text/plain": [
       "FloatProgress(value=0.0, bar_style='info', description='Progress:', layout=Layout(height='25px', width='50%'),…"
      ]
     },
     "metadata": {},
     "output_type": "display_data"
    },
    {
     "name": "stdout",
     "output_type": "stream",
     "text": [
      "Collecting pandas==1.0.3\n",
      "  Using cached pandas-1.0.3-cp36-cp36m-manylinux1_x86_64.whl (10.0 MB)\n",
      "Collecting python-dateutil>=2.6.1\n",
      "  Using cached python_dateutil-2.8.1-py2.py3-none-any.whl (227 kB)\n",
      "Requirement already satisfied: numpy>=1.13.3 in /usr/local/lib64/python3.6/site-packages (from pandas==1.0.3) (1.14.5)\n",
      "Requirement already satisfied: pytz>=2017.2 in /usr/local/lib/python3.6/site-packages (from pandas==1.0.3) (2019.3)\n",
      "Requirement already satisfied: six>=1.5 in /usr/local/lib/python3.6/site-packages (from python-dateutil>=2.6.1->pandas==1.0.3) (1.13.0)\n",
      "Installing collected packages: python-dateutil, pandas\n",
      "Successfully installed pandas-1.0.3 python-dateutil-2.8.1\n",
      "\n",
      "Collecting matplotlib==3.2.1\n",
      "  Using cached matplotlib-3.2.1-cp36-cp36m-manylinux1_x86_64.whl (12.4 MB)\n",
      "Collecting pyparsing!=2.0.4,!=2.1.2,!=2.1.6,>=2.0.1\n",
      "  Using cached pyparsing-2.4.7-py2.py3-none-any.whl (67 kB)\n",
      "Requirement already satisfied: numpy>=1.11 in /usr/local/lib64/python3.6/site-packages (from matplotlib==3.2.1) (1.14.5)\n",
      "Requirement already satisfied: python-dateutil>=2.1 in /mnt/tmp/1588138001850-0/lib/python3.6/site-packages (from matplotlib==3.2.1) (2.8.1)\n",
      "Collecting kiwisolver>=1.0.1\n",
      "  Using cached kiwisolver-1.2.0-cp36-cp36m-manylinux1_x86_64.whl (88 kB)\n",
      "Collecting cycler>=0.10\n",
      "  Using cached cycler-0.10.0-py2.py3-none-any.whl (6.5 kB)\n",
      "Requirement already satisfied: six>=1.5 in /usr/local/lib/python3.6/site-packages (from python-dateutil>=2.1->matplotlib==3.2.1) (1.13.0)\n",
      "Installing collected packages: pyparsing, kiwisolver, cycler, matplotlib\n",
      "Successfully installed cycler-0.10.0 kiwisolver-1.2.0 matplotlib-3.2.1 pyparsing-2.4.7"
     ]
    }
   ],
   "source": [
    "sc.install_pypi_package(\"pandas==1.0.3\")\n",
    "sc.install_pypi_package(\"matplotlib==3.2.1\")"
   ]
  },
  {
   "cell_type": "markdown",
   "metadata": {},
   "source": [
    "## 2. Importing Essential Libraries"
   ]
  },
  {
   "cell_type": "code",
   "execution_count": 4,
   "metadata": {},
   "outputs": [
    {
     "data": {
      "application/vnd.jupyter.widget-view+json": {
       "model_id": "f9af4f3c5f344e3eb1594b5376353fb6",
       "version_major": 2,
       "version_minor": 0
      },
      "text/plain": [
       "VBox()"
      ]
     },
     "metadata": {},
     "output_type": "display_data"
    },
    {
     "data": {
      "application/vnd.jupyter.widget-view+json": {
       "model_id": "",
       "version_major": 2,
       "version_minor": 0
      },
      "text/plain": [
       "FloatProgress(value=0.0, bar_style='info', description='Progress:', layout=Layout(height='25px', width='50%'),…"
      ]
     },
     "metadata": {},
     "output_type": "display_data"
    }
   ],
   "source": [
    "import pandas as pd\n",
    "import matplotlib.pyplot as plt\n",
    "from pyspark.sql import SparkSession\n",
    "\n",
    "spark = SparkSession \\\n",
    "    .builder \\\n",
    "    .appName(\"Python Spark SQL basic example\") \\\n",
    "    .config(\"spark.some.config.option\", \"some-value\") \\\n",
    "    .getOrCreate()"
   ]
  },
  {
   "cell_type": "markdown",
   "metadata": {},
   "source": [
    "## 3. Reading Business Dataset"
   ]
  },
  {
   "cell_type": "code",
   "execution_count": 5,
   "metadata": {},
   "outputs": [
    {
     "data": {
      "application/vnd.jupyter.widget-view+json": {
       "model_id": "ffd5c00c42274568b04a59ae3f84fb29",
       "version_major": 2,
       "version_minor": 0
      },
      "text/plain": [
       "VBox()"
      ]
     },
     "metadata": {},
     "output_type": "display_data"
    },
    {
     "data": {
      "application/vnd.jupyter.widget-view+json": {
       "model_id": "",
       "version_major": 2,
       "version_minor": 0
      },
      "text/plain": [
       "FloatProgress(value=0.0, bar_style='info', description='Progress:', layout=Layout(height='25px', width='50%'),…"
      ]
     },
     "metadata": {},
     "output_type": "display_data"
    }
   ],
   "source": [
    "df=spark.read.json('s3://sta-yelp/yelp_academic_dataset_business.json')"
   ]
  },
  {
   "cell_type": "markdown",
   "metadata": {},
   "source": [
    "### Overview of Data"
   ]
  },
  {
   "cell_type": "code",
   "execution_count": 57,
   "metadata": {},
   "outputs": [
    {
     "data": {
      "application/vnd.jupyter.widget-view+json": {
       "model_id": "28dc826335fb41ea938f0d4d3591227a",
       "version_major": 2,
       "version_minor": 0
      },
      "text/plain": [
       "VBox()"
      ]
     },
     "metadata": {},
     "output_type": "display_data"
    },
    {
     "data": {
      "application/vnd.jupyter.widget-view+json": {
       "model_id": "",
       "version_major": 2,
       "version_minor": 0
      },
      "text/plain": [
       "FloatProgress(value=0.0, bar_style='info', description='Progress:', layout=Layout(height='25px', width='50%'),…"
      ]
     },
     "metadata": {},
     "output_type": "display_data"
    },
    {
     "name": "stdout",
     "output_type": "stream",
     "text": [
      "Total Columns: 14\n",
      "Total Rows: 209,393\n",
      "root\n",
      " |-- address: string (nullable = true)\n",
      " |-- attributes: struct (nullable = true)\n",
      " |    |-- AcceptsInsurance: string (nullable = true)\n",
      " |    |-- AgesAllowed: string (nullable = true)\n",
      " |    |-- Alcohol: string (nullable = true)\n",
      " |    |-- Ambience: string (nullable = true)\n",
      " |    |-- BYOB: string (nullable = true)\n",
      " |    |-- BYOBCorkage: string (nullable = true)\n",
      " |    |-- BestNights: string (nullable = true)\n",
      " |    |-- BikeParking: string (nullable = true)\n",
      " |    |-- BusinessAcceptsBitcoin: string (nullable = true)\n",
      " |    |-- BusinessAcceptsCreditCards: string (nullable = true)\n",
      " |    |-- BusinessParking: string (nullable = true)\n",
      " |    |-- ByAppointmentOnly: string (nullable = true)\n",
      " |    |-- Caters: string (nullable = true)\n",
      " |    |-- CoatCheck: string (nullable = true)\n",
      " |    |-- Corkage: string (nullable = true)\n",
      " |    |-- DietaryRestrictions: string (nullable = true)\n",
      " |    |-- DogsAllowed: string (nullable = true)\n",
      " |    |-- DriveThru: string (nullable = true)\n",
      " |    |-- GoodForDancing: string (nullable = true)\n",
      " |    |-- GoodForKids: string (nullable = true)\n",
      " |    |-- GoodForMeal: string (nullable = true)\n",
      " |    |-- HairSpecializesIn: string (nullable = true)\n",
      " |    |-- HappyHour: string (nullable = true)\n",
      " |    |-- HasTV: string (nullable = true)\n",
      " |    |-- Music: string (nullable = true)\n",
      " |    |-- NoiseLevel: string (nullable = true)\n",
      " |    |-- Open24Hours: string (nullable = true)\n",
      " |    |-- OutdoorSeating: string (nullable = true)\n",
      " |    |-- RestaurantsAttire: string (nullable = true)\n",
      " |    |-- RestaurantsCounterService: string (nullable = true)\n",
      " |    |-- RestaurantsDelivery: string (nullable = true)\n",
      " |    |-- RestaurantsGoodForGroups: string (nullable = true)\n",
      " |    |-- RestaurantsPriceRange2: string (nullable = true)\n",
      " |    |-- RestaurantsReservations: string (nullable = true)\n",
      " |    |-- RestaurantsTableService: string (nullable = true)\n",
      " |    |-- RestaurantsTakeOut: string (nullable = true)\n",
      " |    |-- Smoking: string (nullable = true)\n",
      " |    |-- WheelchairAccessible: string (nullable = true)\n",
      " |    |-- WiFi: string (nullable = true)\n",
      " |-- business_id: string (nullable = true)\n",
      " |-- categories: string (nullable = true)\n",
      " |-- city: string (nullable = true)\n",
      " |-- hours: struct (nullable = true)\n",
      " |    |-- Friday: string (nullable = true)\n",
      " |    |-- Monday: string (nullable = true)\n",
      " |    |-- Saturday: string (nullable = true)\n",
      " |    |-- Sunday: string (nullable = true)\n",
      " |    |-- Thursday: string (nullable = true)\n",
      " |    |-- Tuesday: string (nullable = true)\n",
      " |    |-- Wednesday: string (nullable = true)\n",
      " |-- is_open: long (nullable = true)\n",
      " |-- latitude: double (nullable = true)\n",
      " |-- longitude: double (nullable = true)\n",
      " |-- name: string (nullable = true)\n",
      " |-- postal_code: string (nullable = true)\n",
      " |-- review_count: long (nullable = true)\n",
      " |-- stars: double (nullable = true)\n",
      " |-- state: string (nullable = true)"
     ]
    }
   ],
   "source": [
    "print(f'Total Columns: {len(df.dtypes)}')\n",
    "print(f'Total Rows: {df.count():,}')\n",
    "df.printSchema()"
   ]
  },
  {
   "cell_type": "markdown",
   "metadata": {},
   "source": [
    "## 4. Print Out The First 5 Rows"
   ]
  },
  {
   "cell_type": "code",
   "execution_count": 59,
   "metadata": {},
   "outputs": [
    {
     "data": {
      "application/vnd.jupyter.widget-view+json": {
       "model_id": "844f9f0bdf804e9cbb4047775808ce3a",
       "version_major": 2,
       "version_minor": 0
      },
      "text/plain": [
       "VBox()"
      ]
     },
     "metadata": {},
     "output_type": "display_data"
    },
    {
     "data": {
      "application/vnd.jupyter.widget-view+json": {
       "model_id": "",
       "version_major": 2,
       "version_minor": 0
      },
      "text/plain": [
       "FloatProgress(value=0.0, bar_style='info', description='Progress:', layout=Layout(height='25px', width='50%'),…"
      ]
     },
     "metadata": {},
     "output_type": "display_data"
    },
    {
     "name": "stdout",
     "output_type": "stream",
     "text": [
      "+--------------------+--------------------+---------------+-----+--------------------+\n",
      "|         business_id|                name|           city|state|          categories|\n",
      "+--------------------+--------------------+---------------+-----+--------------------+\n",
      "|f9NumwFMBDn751xgF...|The Range At Lake...|      Cornelius|   NC|Active Life, Gun/...|\n",
      "|Yzvjg0SayhoZgCljU...|   Carlos Santo, NMD|     Scottsdale|   AZ|Health & Medical,...|\n",
      "|XNoUzKckATkOD1hP6...|             Felinus|       Montreal|   QC|Pets, Pet Service...|\n",
      "|6OAZjbxqM5ol29BuH...|Nevada House of Hose|North Las Vegas|   NV|Hardware Stores, ...|\n",
      "|51M2Kk903DFYI6gnB...|USE MY GUY SERVIC...|           Mesa|   AZ|Home Services, Pl...|\n",
      "+--------------------+--------------------+---------------+-----+--------------------+"
     ]
    }
   ],
   "source": [
    "df.createOrReplaceTempView('business')\n",
    "sqldf = spark.sql(\n",
    "'''\n",
    "SELECT business_id,name,city,state,categories\n",
    "FROM business\n",
    "LIMIT 5\n",
    "'''\n",
    ")\n",
    "\n",
    "sqldf.show()"
   ]
  },
  {
   "cell_type": "markdown",
   "metadata": {},
   "source": [
    "# Part II - Analyzing Categories\n",
    "We are going to create an association table by utilizing some PySpark transformations & Collection"
   ]
  },
  {
   "cell_type": "markdown",
   "metadata": {},
   "source": [
    "## Some weired codes that I no longer consider..."
   ]
  },
  {
   "cell_type": "code",
   "execution_count": 22,
   "metadata": {},
   "outputs": [
    {
     "data": {
      "application/vnd.jupyter.widget-view+json": {
       "model_id": "95cd0ca972674dc0a982b1022dfc47e3",
       "version_major": 2,
       "version_minor": 0
      },
      "text/plain": [
       "VBox()"
      ]
     },
     "metadata": {},
     "output_type": "display_data"
    },
    {
     "data": {
      "application/vnd.jupyter.widget-view+json": {
       "model_id": "",
       "version_major": 2,
       "version_minor": 0
      },
      "text/plain": [
       "FloatProgress(value=0.0, bar_style='info', description='Progress:', layout=Layout(height='25px', width='50%'),…"
      ]
     },
     "metadata": {},
     "output_type": "display_data"
    }
   ],
   "source": [
    "df3=df.select(\"categories\").rdd.flatMap(lambda x:str(x).split(', ')).collect()\n",
    "\n",
    "def clean(dirty_str):\n",
    "    clean_str=dirty_str.replace('Row(categories=\\'','').replace(')','')\n",
    "    return clean_str\n",
    "   \n",
    "cleaned_category=[clean(token) for token in df3]"
   ]
  },
  {
   "cell_type": "markdown",
   "metadata": {},
   "source": [
    "## 1. Melt The DF"
   ]
  },
  {
   "cell_type": "code",
   "execution_count": 99,
   "metadata": {},
   "outputs": [
    {
     "data": {
      "application/vnd.jupyter.widget-view+json": {
       "model_id": "394302c87a24479daa7557da3db6ba59",
       "version_major": 2,
       "version_minor": 0
      },
      "text/plain": [
       "VBox()"
      ]
     },
     "metadata": {},
     "output_type": "display_data"
    },
    {
     "data": {
      "application/vnd.jupyter.widget-view+json": {
       "model_id": "",
       "version_major": 2,
       "version_minor": 0
      },
      "text/plain": [
       "FloatProgress(value=0.0, bar_style='info', description='Progress:', layout=Layout(height='25px', width='50%'),…"
      ]
     },
     "metadata": {},
     "output_type": "display_data"
    },
    {
     "name": "stdout",
     "output_type": "stream",
     "text": [
      "+--------------------+--------------------+\n",
      "|         business_id|            category|\n",
      "+--------------------+--------------------+\n",
      "|f9NumwFMBDn751xgF...|         Active Life|\n",
      "|f9NumwFMBDn751xgF...|    Gun/Rifle Ranges|\n",
      "|f9NumwFMBDn751xgF...|         Guns & Ammo|\n",
      "|f9NumwFMBDn751xgF...|            Shopping|\n",
      "|Yzvjg0SayhoZgCljU...|    Health & Medical|\n",
      "|Yzvjg0SayhoZgCljU...|Fitness & Instruc...|\n",
      "|Yzvjg0SayhoZgCljU...|                Yoga|\n",
      "|Yzvjg0SayhoZgCljU...|         Active Life|\n",
      "|Yzvjg0SayhoZgCljU...|             Pilates|\n",
      "|XNoUzKckATkOD1hP6...|                Pets|\n",
      "|XNoUzKckATkOD1hP6...|        Pet Services|\n",
      "|XNoUzKckATkOD1hP6...|        Pet Groomers|\n",
      "|6OAZjbxqM5ol29BuH...|     Hardware Stores|\n",
      "|6OAZjbxqM5ol29BuH...|       Home Services|\n",
      "|6OAZjbxqM5ol29BuH...|   Building Supplies|\n",
      "|6OAZjbxqM5ol29BuH...|       Home & Garden|\n",
      "|6OAZjbxqM5ol29BuH...|            Shopping|\n",
      "|51M2Kk903DFYI6gnB...|       Home Services|\n",
      "|51M2Kk903DFYI6gnB...|            Plumbing|\n",
      "|51M2Kk903DFYI6gnB...|        Electricians|\n",
      "+--------------------+--------------------+\n",
      "only showing top 20 rows"
     ]
    }
   ],
   "source": [
    "import pyspark.sql.functions as f\n",
    "\n",
    "df.select(\n",
    "\"business_id\",f.posexplode(f.split(\"categories\", \", \")).alias(\"pos\", \"category\")).drop('pos').show()"
   ]
  },
  {
   "cell_type": "markdown",
   "metadata": {},
   "source": [
    "## 2. Group By Category"
   ]
  },
  {
   "cell_type": "code",
   "execution_count": 113,
   "metadata": {},
   "outputs": [
    {
     "data": {
      "application/vnd.jupyter.widget-view+json": {
       "model_id": "ad6e9af493f5431fb7eda382df561889",
       "version_major": 2,
       "version_minor": 0
      },
      "text/plain": [
       "VBox()"
      ]
     },
     "metadata": {},
     "output_type": "display_data"
    },
    {
     "data": {
      "application/vnd.jupyter.widget-view+json": {
       "model_id": "",
       "version_major": 2,
       "version_minor": 0
      },
      "text/plain": [
       "FloatProgress(value=0.0, bar_style='info', description='Progress:', layout=Layout(height='25px', width='50%'),…"
      ]
     },
     "metadata": {},
     "output_type": "display_data"
    },
    {
     "name": "stdout",
     "output_type": "stream",
     "text": [
      "+-------------------+-----+\n",
      "|           category|count|\n",
      "+-------------------+-----+\n",
      "|     Dermatologists|  341|\n",
      "|   Historical Tours|   54|\n",
      "|Mobile Home Dealers|   16|\n",
      "|     Paddleboarding|   36|\n",
      "|   Hot Air Balloons|   21|\n",
      "|       Aerial Tours|   28|\n",
      "|      Skating Rinks|  104|\n",
      "|  Signature Cuisine|    1|\n",
      "|             Fondue|   54|\n",
      "|      Data Recovery|  195|\n",
      "|  Pet Waste Removal|   34|\n",
      "|      Videographers|  169|\n",
      "|    Pet Photography|   49|\n",
      "|        Boat Repair|  100|\n",
      "|            Beaches|   74|\n",
      "|       Contract Law|   13|\n",
      "|        Hobby Shops|  828|\n",
      "|           Day Spas| 2880|\n",
      "|              Reiki|  312|\n",
      "|           Honduran|    8|\n",
      "+-------------------+-----+\n",
      "only showing top 20 rows"
     ]
    }
   ],
   "source": [
    "df.select(\n",
    "\"business_id\",f.posexplode(f.split(\"categories\", \", \")).alias(\"pos\", \"category\"))\\\n",
    ".drop('pos')\\\n",
    ".select('category').groupby('category').count().show()"
   ]
  },
  {
   "cell_type": "markdown",
   "metadata": {},
   "source": [
    "## 3. Convert to Pandas and Plot"
   ]
  },
  {
   "cell_type": "code",
   "execution_count": 126,
   "metadata": {},
   "outputs": [
    {
     "data": {
      "application/vnd.jupyter.widget-view+json": {
       "model_id": "ec3e7b349664493a840b81712c40bfdd",
       "version_major": 2,
       "version_minor": 0
      },
      "text/plain": [
       "VBox()"
      ]
     },
     "metadata": {},
     "output_type": "display_data"
    },
    {
     "data": {
      "application/vnd.jupyter.widget-view+json": {
       "model_id": "",
       "version_major": 2,
       "version_minor": 0
      },
      "text/plain": [
       "FloatProgress(value=0.0, bar_style='info', description='Progress:', layout=Layout(height='25px', width='50%'),…"
      ]
     },
     "metadata": {},
     "output_type": "display_data"
    }
   ],
   "source": [
    "df_pd=df.select(\n",
    "\"business_id\",f.posexplode(f.split(\"categories\", \", \")).alias(\"pos\", \"category\"))\\\n",
    ".drop('pos')\\\n",
    ".select('category').groupby('category').count().toPandas()"
   ]
  },
  {
   "cell_type": "code",
   "execution_count": 157,
   "metadata": {},
   "outputs": [
    {
     "data": {
      "application/vnd.jupyter.widget-view+json": {
       "model_id": "e78331b656144946ad9aec8ddaa514d2",
       "version_major": 2,
       "version_minor": 0
      },
      "text/plain": [
       "VBox()"
      ]
     },
     "metadata": {},
     "output_type": "display_data"
    },
    {
     "data": {
      "application/vnd.jupyter.widget-view+json": {
       "model_id": "",
       "version_major": 2,
       "version_minor": 0
      },
      "text/plain": [
       "FloatProgress(value=0.0, bar_style='info', description='Progress:', layout=Layout(height='25px', width='50%'),…"
      ]
     },
     "metadata": {},
     "output_type": "display_data"
    },
    {
     "data": {
      "image/png": "[encoded data removed]",
      "text/plain": [
       "<IPython.core.display.Image object>"
      ]
     },
     "metadata": {},
     "output_type": "display_data"
    }
   ],
   "source": [
    "df_plt=df_pd.sort_values(by='count',ascending=False).head(20).sort_values(by='count',ascending=True)\\\n",
    ".plot(x='category',y='count',kind='barh',fontsize=10,figsize=(15, 10))\n",
    "plt.ylabel('Count')\n",
    "plt.xlabel('Category')\n",
    "plt.title('Top Category By Business')\n",
    "%matplot plt"
   ]
  },
  {
   "cell_type": "markdown",
   "metadata": {},
   "source": [
    "## *Cheating Alert* : Semi-Pandas Approach"
   ]
  },
  {
   "cell_type": "markdown",
   "metadata": {},
   "source": [
    "### 1. Create list for 'business_id' & 'category'"
   ]
  },
  {
   "cell_type": "code",
   "execution_count": 8,
   "metadata": {},
   "outputs": [
    {
     "data": {
      "application/vnd.jupyter.widget-view+json": {
       "model_id": "a9d7850967764ba49711035819ec36f8",
       "version_major": 2,
       "version_minor": 0
      },
      "text/plain": [
       "VBox()"
      ]
     },
     "metadata": {},
     "output_type": "display_data"
    },
    {
     "data": {
      "application/vnd.jupyter.widget-view+json": {
       "model_id": "",
       "version_major": 2,
       "version_minor": 0
      },
      "text/plain": [
       "FloatProgress(value=0.0, bar_style='info', description='Progress:', layout=Layout(height='25px', width='50%'),…"
      ]
     },
     "metadata": {},
     "output_type": "display_data"
    }
   ],
   "source": [
    "# Grap list of business_id & category in order to derive a 'flatten' table\n",
    "bid=df.select(\"business_id\").rdd.flatMap(lambda x: x).collect()\n",
    "\n",
    "categories=df.select(\"categories\").rdd.flatMap(lambda x: x).collect()\n",
    "\n",
    "# my_dict={}\n",
    "# for i in range(len(bid)):\n",
    "#     my_dict[bid[i]]=categories[i]\n",
    "\n",
    "# Contains a full list of categories\n",
    "flat=[y for x in categories for y in str(x).split(', ')]\n",
    "\n",
    "# Create new DF for plotting later on...\n",
    "df2=pd.DataFrame(columns=['business_id','category'])\n",
    "\n",
    "df2.category=flat"
   ]
  },
  {
   "cell_type": "markdown",
   "metadata": {},
   "source": [
    "### 2. Need to count how many categories a business_id contained"
   ]
  },
  {
   "cell_type": "code",
   "execution_count": 9,
   "metadata": {},
   "outputs": [
    {
     "data": {
      "application/vnd.jupyter.widget-view+json": {
       "model_id": "0af907c2d9654880bc1d75265ba3ec0a",
       "version_major": 2,
       "version_minor": 0
      },
      "text/plain": [
       "VBox()"
      ]
     },
     "metadata": {},
     "output_type": "display_data"
    },
    {
     "data": {
      "application/vnd.jupyter.widget-view+json": {
       "model_id": "",
       "version_major": 2,
       "version_minor": 0
      },
      "text/plain": [
       "FloatProgress(value=0.0, bar_style='info', description='Progress:', layout=Layout(height='25px', width='50%'),…"
      ]
     },
     "metadata": {},
     "output_type": "display_data"
    }
   ],
   "source": [
    "count=[len(str(token).split(', ')) for token in categories]"
   ]
  },
  {
   "cell_type": "markdown",
   "metadata": {},
   "source": [
    "\n",
    "### 3. business_id appear COUNT(category) times in this longer list"
   ]
  },
  {
   "cell_type": "code",
   "execution_count": 10,
   "metadata": {},
   "outputs": [
    {
     "data": {
      "application/vnd.jupyter.widget-view+json": {
       "model_id": "6099c63cd9754b05954b6526079b2806",
       "version_major": 2,
       "version_minor": 0
      },
      "text/plain": [
       "VBox()"
      ]
     },
     "metadata": {},
     "output_type": "display_data"
    },
    {
     "data": {
      "application/vnd.jupyter.widget-view+json": {
       "model_id": "",
       "version_major": 2,
       "version_minor": 0
      },
      "text/plain": [
       "FloatProgress(value=0.0, bar_style='info', description='Progress:', layout=Layout(height='25px', width='50%'),…"
      ]
     },
     "metadata": {},
     "output_type": "display_data"
    }
   ],
   "source": [
    "bid_long=[]\n",
    "for index in range(len(count)):\n",
    "    cnt=count[index]\n",
    "    while cnt>0:\n",
    "        bid_long.append(bid[index])\n",
    "        cnt=cnt-1"
   ]
  },
  {
   "cell_type": "markdown",
   "metadata": {},
   "source": [
    "### 4. Add the longer list to Dataframe"
   ]
  },
  {
   "cell_type": "code",
   "execution_count": 11,
   "metadata": {},
   "outputs": [
    {
     "data": {
      "application/vnd.jupyter.widget-view+json": {
       "model_id": "cc42e984bb5c44dcb0be74f4faaa69ab",
       "version_major": 2,
       "version_minor": 0
      },
      "text/plain": [
       "VBox()"
      ]
     },
     "metadata": {},
     "output_type": "display_data"
    },
    {
     "data": {
      "application/vnd.jupyter.widget-view+json": {
       "model_id": "",
       "version_major": 2,
       "version_minor": 0
      },
      "text/plain": [
       "FloatProgress(value=0.0, bar_style='info', description='Progress:', layout=Layout(height='25px', width='50%'),…"
      ]
     },
     "metadata": {},
     "output_type": "display_data"
    }
   ],
   "source": [
    "df2['business_id']=bid_long"
   ]
  },
  {
   "cell_type": "code",
   "execution_count": 12,
   "metadata": {},
   "outputs": [
    {
     "data": {
      "application/vnd.jupyter.widget-view+json": {
       "model_id": "4ea32b44781645a2b37bedb9fc0d5ef3",
       "version_major": 2,
       "version_minor": 0
      },
      "text/plain": [
       "VBox()"
      ]
     },
     "metadata": {},
     "output_type": "display_data"
    },
    {
     "data": {
      "application/vnd.jupyter.widget-view+json": {
       "model_id": "",
       "version_major": 2,
       "version_minor": 0
      },
      "text/plain": [
       "FloatProgress(value=0.0, bar_style='info', description='Progress:', layout=Layout(height='25px', width='50%'),…"
      ]
     },
     "metadata": {},
     "output_type": "display_data"
    },
    {
     "name": "stdout",
     "output_type": "stream",
     "text": [
      "              business_id          category\n",
      "0  f9NumwFMBDn751xgFiRbNA       Active Life\n",
      "1  f9NumwFMBDn751xgFiRbNA  Gun/Rifle Ranges\n",
      "2  f9NumwFMBDn751xgFiRbNA       Guns & Ammo\n",
      "3  f9NumwFMBDn751xgFiRbNA          Shopping\n",
      "4  Yzvjg0SayhoZgCljUJRF9Q  Health & Medical"
     ]
    }
   ],
   "source": [
    "print(df2.head())"
   ]
  },
  {
   "cell_type": "markdown",
   "metadata": {},
   "source": [
    "### 5.Total Unique Categories"
   ]
  },
  {
   "cell_type": "code",
   "execution_count": 13,
   "metadata": {},
   "outputs": [
    {
     "data": {
      "application/vnd.jupyter.widget-view+json": {
       "model_id": "41b0b49c786b4d2e8bacf18c1be6f64c",
       "version_major": 2,
       "version_minor": 0
      },
      "text/plain": [
       "VBox()"
      ]
     },
     "metadata": {},
     "output_type": "display_data"
    },
    {
     "data": {
      "application/vnd.jupyter.widget-view+json": {
       "model_id": "",
       "version_major": 2,
       "version_minor": 0
      },
      "text/plain": [
       "FloatProgress(value=0.0, bar_style='info', description='Progress:', layout=Layout(height='25px', width='50%'),…"
      ]
     },
     "metadata": {},
     "output_type": "display_data"
    },
    {
     "name": "stdout",
     "output_type": "stream",
     "text": [
      "category\n",
      "Restaurants                    63944\n",
      "Shopping                       34644\n",
      "Food                           32991\n",
      "Home Services                  22487\n",
      "Beauty & Spas                  20520\n",
      "                               ...  \n",
      "Tempura                            1\n",
      "Sauna Installation & Repair        1\n",
      "Island Pub                         1\n",
      "Flyboarding                        1\n",
      "Minho                              1\n",
      "Name: business_id, Length: 1337, dtype: int64"
     ]
    }
   ],
   "source": [
    "print(df2.groupby('category')['business_id'].count().sort_values(ascending=False))"
   ]
  },
  {
   "cell_type": "markdown",
   "metadata": {},
   "source": [
    "### 6.Plot "
   ]
  },
  {
   "cell_type": "code",
   "execution_count": 14,
   "metadata": {
    "scrolled": true
   },
   "outputs": [
    {
     "data": {
      "application/vnd.jupyter.widget-view+json": {
       "model_id": "95a1075f7453496fba06aaf0d670d455",
       "version_major": 2,
       "version_minor": 0
      },
      "text/plain": [
       "VBox()"
      ]
     },
     "metadata": {},
     "output_type": "display_data"
    },
    {
     "data": {
      "application/vnd.jupyter.widget-view+json": {
       "model_id": "",
       "version_major": 2,
       "version_minor": 0
      },
      "text/plain": [
       "FloatProgress(value=0.0, bar_style='info', description='Progress:', layout=Layout(height='25px', width='50%'),…"
      ]
     },
     "metadata": {},
     "output_type": "display_data"
    },
    {
     "data": {
      "image/png": "[encoded data removed]",
      "text/plain": [
       "<IPython.core.display.Image object>"
      ]
     },
     "metadata": {},
     "output_type": "display_data"
    }
   ],
   "source": [
    "import matplotlib.pyplot as plt\n",
    "group=df2.groupby('category')['business_id'].count().sort_values(ascending=False).head(20)\n",
    "group.plot(kind='barh',fontsize=8)\n",
    "plt.xlabel('Count')\n",
    "plt.xlabel('Category')\n",
    "plt.title('Top Category By Business')\n",
    "%matplot plt"
   ]
  },
  {
   "cell_type": "markdown",
   "metadata": {},
   "source": [
    "# Part III - Do Yelp Reviews Skew Negative?"
   ]
  },
  {
   "cell_type": "markdown",
   "metadata": {},
   "source": [
    "## 1. Load User Review Data \n",
    "And take a look at the schema"
   ]
  },
  {
   "cell_type": "code",
   "execution_count": 6,
   "metadata": {},
   "outputs": [
    {
     "data": {
      "application/vnd.jupyter.widget-view+json": {
       "model_id": "e03f546edbd641ac9d940a3481244110",
       "version_major": 2,
       "version_minor": 0
      },
      "text/plain": [
       "VBox()"
      ]
     },
     "metadata": {},
     "output_type": "display_data"
    },
    {
     "data": {
      "application/vnd.jupyter.widget-view+json": {
       "model_id": "",
       "version_major": 2,
       "version_minor": 0
      },
      "text/plain": [
       "FloatProgress(value=0.0, bar_style='info', description='Progress:', layout=Layout(height='25px', width='50%'),…"
      ]
     },
     "metadata": {},
     "output_type": "display_data"
    }
   ],
   "source": [
    "review=spark.read.json('s3://sta-yelp/yelp_academic_dataset_review.json')"
   ]
  },
  {
   "cell_type": "code",
   "execution_count": 159,
   "metadata": {},
   "outputs": [
    {
     "data": {
      "application/vnd.jupyter.widget-view+json": {
       "model_id": "bbb67efdcd624fe39e7b3ad808615297",
       "version_major": 2,
       "version_minor": 0
      },
      "text/plain": [
       "VBox()"
      ]
     },
     "metadata": {},
     "output_type": "display_data"
    },
    {
     "data": {
      "application/vnd.jupyter.widget-view+json": {
       "model_id": "",
       "version_major": 2,
       "version_minor": 0
      },
      "text/plain": [
       "FloatProgress(value=0.0, bar_style='info', description='Progress:', layout=Layout(height='25px', width='50%'),…"
      ]
     },
     "metadata": {},
     "output_type": "display_data"
    },
    {
     "name": "stdout",
     "output_type": "stream",
     "text": [
      "root\n",
      " |-- business_id: string (nullable = true)\n",
      " |-- cool: long (nullable = true)\n",
      " |-- date: string (nullable = true)\n",
      " |-- funny: long (nullable = true)\n",
      " |-- review_id: string (nullable = true)\n",
      " |-- stars: double (nullable = true)\n",
      " |-- text: string (nullable = true)\n",
      " |-- useful: long (nullable = true)\n",
      " |-- user_id: string (nullable = true)\n",
      "\n",
      "None"
     ]
    }
   ],
   "source": [
    "print(review.printSchema())"
   ]
  },
  {
   "cell_type": "code",
   "execution_count": 7,
   "metadata": {},
   "outputs": [
    {
     "data": {
      "application/vnd.jupyter.widget-view+json": {
       "model_id": "65de395da858474d91da934751429bf2",
       "version_major": 2,
       "version_minor": 0
      },
      "text/plain": [
       "VBox()"
      ]
     },
     "metadata": {},
     "output_type": "display_data"
    },
    {
     "data": {
      "application/vnd.jupyter.widget-view+json": {
       "model_id": "",
       "version_major": 2,
       "version_minor": 0
      },
      "text/plain": [
       "FloatProgress(value=0.0, bar_style='info', description='Progress:', layout=Layout(height='25px', width='50%'),…"
      ]
     },
     "metadata": {},
     "output_type": "display_data"
    },
    {
     "name": "stdout",
     "output_type": "stream",
     "text": [
      "+--------------------+-----+\n",
      "|         business_id|stars|\n",
      "+--------------------+-----+\n",
      "|HRxCNChQNu7maK29q...|  5.0|\n",
      "|9WJd4cqm3ghYA2RxS...|  3.0|\n",
      "|sAmmv3ffj99CN85Wj...|  5.0|\n",
      "|oiAlXZPIFm2nBCt0D...|  1.0|\n",
      "|EVkytEhlC1nswqmgr...|  4.0|\n",
      "+--------------------+-----+"
     ]
    }
   ],
   "source": [
    "review.createOrReplaceTempView('review')\n",
    "sqldf = spark.sql(\n",
    "'''\n",
    "SELECT business_id,stars\n",
    "FROM review\n",
    "LIMIT 5\n",
    "'''\n",
    ")\n",
    "\n",
    "sqldf.show()"
   ]
  },
  {
   "cell_type": "code",
   "execution_count": 161,
   "metadata": {},
   "outputs": [
    {
     "data": {
      "application/vnd.jupyter.widget-view+json": {
       "model_id": "8a48e3fc96f44ddd8fb004063e96d78b",
       "version_major": 2,
       "version_minor": 0
      },
      "text/plain": [
       "VBox()"
      ]
     },
     "metadata": {},
     "output_type": "display_data"
    },
    {
     "data": {
      "application/vnd.jupyter.widget-view+json": {
       "model_id": "",
       "version_major": 2,
       "version_minor": 0
      },
      "text/plain": [
       "FloatProgress(value=0.0, bar_style='info', description='Progress:', layout=Layout(height='25px', width='50%'),…"
      ]
     },
     "metadata": {},
     "output_type": "display_data"
    },
    {
     "name": "stdout",
     "output_type": "stream",
     "text": [
      "+--------------------+------------------+\n",
      "|         business_id|        avg(stars)|\n",
      "+--------------------+------------------+\n",
      "|VHsNB3pdGVcRgs6C3...| 3.411764705882353|\n",
      "|RMjCnixEY5i12Ciqn...|3.5316455696202533|\n",
      "|vQGZjrDiDBuznOkUe...| 4.454545454545454|\n",
      "|vyu1WGlnHGv2Z2MVE...|               5.0|\n",
      "|r-W1HPIZ3V6S2DaXh...| 4.852459016393443|\n",
      "+--------------------+------------------+"
     ]
    }
   ],
   "source": [
    "review.createOrReplaceTempView('review')\n",
    "sqldf = spark.sql(\n",
    "'''\n",
    "SELECT business_id,AVG(stars)\n",
    "FROM review\n",
    "GROUP BY business_id\n",
    "LIMIT 5\n",
    "'''\n",
    ")\n",
    "\n",
    "sqldf.show()"
   ]
  },
  {
   "cell_type": "markdown",
   "metadata": {},
   "source": [
    "## 2. Now Joining Review & Business Tables\n",
    "Quiet a bit of efforts because of the Window Function...( and I hope it's the right approach because most of my brain cells are dead at this pt)"
   ]
  },
  {
   "cell_type": "code",
   "execution_count": 162,
   "metadata": {},
   "outputs": [
    {
     "data": {
      "application/vnd.jupyter.widget-view+json": {
       "model_id": "7b6d80e19c264fc49209876241539d28",
       "version_major": 2,
       "version_minor": 0
      },
      "text/plain": [
       "VBox()"
      ]
     },
     "metadata": {},
     "output_type": "display_data"
    },
    {
     "data": {
      "application/vnd.jupyter.widget-view+json": {
       "model_id": "",
       "version_major": 2,
       "version_minor": 0
      },
      "text/plain": [
       "FloatProgress(value=0.0, bar_style='info', description='Progress:', layout=Layout(height='25px', width='50%'),…"
      ]
     },
     "metadata": {},
     "output_type": "display_data"
    },
    {
     "name": "stdout",
     "output_type": "stream",
     "text": [
      "+------------+-----+--------------------+------------------+-----+\n",
      "|review_stars|stars|                name|              city|state|\n",
      "+------------+-----+--------------------+------------------+-----+\n",
      "|         5.0|  5.0|Crossfit Culminat...|         Las Vegas|   NV|\n",
      "|         5.0|  5.0|      The Auto Place|         Las Vegas|   NV|\n",
      "|         5.0|  5.0|      Clayton Market|   North Las Vegas|   NV|\n",
      "|         5.0|  5.0|   The Crooked Ćevap|Mentor-on-the-Lake|   OH|\n",
      "|         5.0|  5.0|Jodine Wamsley, D...|        Scottsdale|   AZ|\n",
      "+------------+-----+--------------------+------------------+-----+"
     ]
    }
   ],
   "source": [
    "df.createOrReplaceTempView('business')\n",
    "review.createOrReplaceTempView('review')\n",
    "sqldf = spark.sql(\n",
    "'''\n",
    "SELECT DISTINCT AVG(review.stars) OVER (PARTITION BY review.business_id) AS review_stars,business.stars,name,city,state\n",
    "FROM \n",
    "business\n",
    "JOIN\n",
    "review\n",
    "ON business.business_id=review.business_id\n",
    "ORDER BY review_stars DESC\n",
    "LIMIT 5\n",
    "'''\n",
    ")\n",
    "\n",
    "sqldf.show()"
   ]
  },
  {
   "cell_type": "markdown",
   "metadata": {},
   "source": [
    "## 3. Computing Skewness"
   ]
  },
  {
   "cell_type": "code",
   "execution_count": 165,
   "metadata": {},
   "outputs": [
    {
     "data": {
      "application/vnd.jupyter.widget-view+json": {
       "model_id": "fa66777e6feb4c30959d1b91d28b71e5",
       "version_major": 2,
       "version_minor": 0
      },
      "text/plain": [
       "VBox()"
      ]
     },
     "metadata": {},
     "output_type": "display_data"
    },
    {
     "data": {
      "application/vnd.jupyter.widget-view+json": {
       "model_id": "",
       "version_major": 2,
       "version_minor": 0
      },
      "text/plain": [
       "FloatProgress(value=0.0, bar_style='info', description='Progress:', layout=Layout(height='25px', width='50%'),…"
      ]
     },
     "metadata": {},
     "output_type": "display_data"
    },
    {
     "name": "stdout",
     "output_type": "stream",
     "text": [
      "+------+\n",
      "|  skew|\n",
      "+------+\n",
      "|-0.455|\n",
      "|-0.397|\n",
      "|-0.381|\n",
      "|-0.377|\n",
      "|-0.371|\n",
      "| -0.37|\n",
      "|-0.357|\n",
      "| -0.35|\n",
      "|-0.333|\n",
      "|-0.323|\n",
      "|-0.321|\n",
      "| -0.32|\n",
      "|-0.314|\n",
      "|-0.314|\n",
      "|-0.314|\n",
      "|-0.314|\n",
      "|-0.314|\n",
      "|-0.314|\n",
      "|-0.314|\n",
      "|-0.313|\n",
      "+------+\n",
      "only showing top 20 rows"
     ]
    }
   ],
   "source": [
    "df.createOrReplaceTempView('business')\n",
    "review.createOrReplaceTempView('review')\n",
    "sqldf = spark.sql(\n",
    "'''\n",
    "SELECT ROUND((review_stars-stars)/stars,3) as skew FROM\n",
    "(SELECT DISTINCT AVG(review.stars) OVER (PARTITION BY review.business_id) AS review_stars,business.stars,name,city,state\n",
    "FROM \n",
    "business\n",
    "JOIN\n",
    "review\n",
    "ON business.business_id=review.business_id\n",
    "\n",
    ")\n",
    "ORDER BY skew ASC\n",
    "\n",
    "'''\n",
    ")\n",
    "\n",
    "sqldf.show()"
   ]
  },
  {
   "cell_type": "markdown",
   "metadata": {},
   "source": [
    "## 4. Plot A Histogram For Skewness"
   ]
  },
  {
   "cell_type": "code",
   "execution_count": 166,
   "metadata": {},
   "outputs": [
    {
     "data": {
      "application/vnd.jupyter.widget-view+json": {
       "model_id": "758f8ed84d104bb9866eef3d7bbec4f9",
       "version_major": 2,
       "version_minor": 0
      },
      "text/plain": [
       "VBox()"
      ]
     },
     "metadata": {},
     "output_type": "display_data"
    },
    {
     "data": {
      "application/vnd.jupyter.widget-view+json": {
       "model_id": "",
       "version_major": 2,
       "version_minor": 0
      },
      "text/plain": [
       "FloatProgress(value=0.0, bar_style='info', description='Progress:', layout=Layout(height='25px', width='50%'),…"
      ]
     },
     "metadata": {},
     "output_type": "display_data"
    },
    {
     "data": {
      "image/png": "[encoded data removed]",
      "text/plain": [
       "<IPython.core.display.Image object>"
      ]
     },
     "metadata": {},
     "output_type": "display_data"
    }
   ],
   "source": [
    "sqldf.toPandas().plot(kind='hist',bins=50,density=True)\n",
    "plt.xlabel('k')\n",
    "%matplot plt"
   ]
  },
  {
   "cell_type": "markdown",
   "metadata": {},
   "source": [
    "# Part IV - Should the Elite be Trusted? \n",
    "My Analysis Topic: Did 'Elite' users tried out more unique restaurants across different neighborhood vs. the normal users?"
   ]
  },
  {
   "cell_type": "markdown",
   "metadata": {},
   "source": [
    "## 1. Load User Data \n",
    "And take a look at the attributes"
   ]
  },
  {
   "cell_type": "code",
   "execution_count": 7,
   "metadata": {},
   "outputs": [
    {
     "data": {
      "application/vnd.jupyter.widget-view+json": {
       "model_id": "30857952d2d940048f9bbfd1309c2f9d",
       "version_major": 2,
       "version_minor": 0
      },
      "text/plain": [
       "VBox()"
      ]
     },
     "metadata": {},
     "output_type": "display_data"
    },
    {
     "data": {
      "application/vnd.jupyter.widget-view+json": {
       "model_id": "",
       "version_major": 2,
       "version_minor": 0
      },
      "text/plain": [
       "FloatProgress(value=0.0, bar_style='info', description='Progress:', layout=Layout(height='25px', width='50%'),…"
      ]
     },
     "metadata": {},
     "output_type": "display_data"
    }
   ],
   "source": [
    "user=spark.read.json('s3://sta-yelp/yelp_academic_dataset_user.json')"
   ]
  },
  {
   "cell_type": "code",
   "execution_count": 168,
   "metadata": {},
   "outputs": [
    {
     "data": {
      "application/vnd.jupyter.widget-view+json": {
       "model_id": "6059f3092eef4684bee241c579ac783b",
       "version_major": 2,
       "version_minor": 0
      },
      "text/plain": [
       "VBox()"
      ]
     },
     "metadata": {},
     "output_type": "display_data"
    },
    {
     "data": {
      "application/vnd.jupyter.widget-view+json": {
       "model_id": "",
       "version_major": 2,
       "version_minor": 0
      },
      "text/plain": [
       "FloatProgress(value=0.0, bar_style='info', description='Progress:', layout=Layout(height='25px', width='50%'),…"
      ]
     },
     "metadata": {},
     "output_type": "display_data"
    },
    {
     "name": "stdout",
     "output_type": "stream",
     "text": [
      "root\n",
      " |-- average_stars: double (nullable = true)\n",
      " |-- compliment_cool: long (nullable = true)\n",
      " |-- compliment_cute: long (nullable = true)\n",
      " |-- compliment_funny: long (nullable = true)\n",
      " |-- compliment_hot: long (nullable = true)\n",
      " |-- compliment_list: long (nullable = true)\n",
      " |-- compliment_more: long (nullable = true)\n",
      " |-- compliment_note: long (nullable = true)\n",
      " |-- compliment_photos: long (nullable = true)\n",
      " |-- compliment_plain: long (nullable = true)\n",
      " |-- compliment_profile: long (nullable = true)\n",
      " |-- compliment_writer: long (nullable = true)\n",
      " |-- cool: long (nullable = true)\n",
      " |-- elite: string (nullable = true)\n",
      " |-- fans: long (nullable = true)\n",
      " |-- friends: string (nullable = true)\n",
      " |-- funny: long (nullable = true)\n",
      " |-- name: string (nullable = true)\n",
      " |-- review_count: long (nullable = true)\n",
      " |-- useful: long (nullable = true)\n",
      " |-- user_id: string (nullable = true)\n",
      " |-- yelping_since: string (nullable = true)\n",
      "\n",
      "None"
     ]
    }
   ],
   "source": [
    "print(user.printSchema())"
   ]
  },
  {
   "cell_type": "code",
   "execution_count": 169,
   "metadata": {},
   "outputs": [
    {
     "data": {
      "application/vnd.jupyter.widget-view+json": {
       "model_id": "e46e41288d624541897dd0a424dcf474",
       "version_major": 2,
       "version_minor": 0
      },
      "text/plain": [
       "VBox()"
      ]
     },
     "metadata": {},
     "output_type": "display_data"
    },
    {
     "data": {
      "application/vnd.jupyter.widget-view+json": {
       "model_id": "",
       "version_major": 2,
       "version_minor": 0
      },
      "text/plain": [
       "FloatProgress(value=0.0, bar_style='info', description='Progress:', layout=Layout(height='25px', width='50%'),…"
      ]
     },
     "metadata": {},
     "output_type": "display_data"
    },
    {
     "name": "stdout",
     "output_type": "stream",
     "text": [
      "root\n",
      " |-- business_id: string (nullable = true)\n",
      " |-- cool: long (nullable = true)\n",
      " |-- date: string (nullable = true)\n",
      " |-- funny: long (nullable = true)\n",
      " |-- review_id: string (nullable = true)\n",
      " |-- stars: double (nullable = true)\n",
      " |-- text: string (nullable = true)\n",
      " |-- useful: long (nullable = true)\n",
      " |-- user_id: string (nullable = true)\n",
      "\n",
      "None"
     ]
    }
   ],
   "source": [
    "print(review.printSchema())"
   ]
  },
  {
   "cell_type": "markdown",
   "metadata": {},
   "source": [
    "## *How Many Reviews Per State?\n",
    "My initial goal was to investigate users behaviros by city and states (especially in New York)\n",
    "But the dataset only contains data of 13 metropolitans (NYC not included),therefore I paused this direction"
   ]
  },
  {
   "cell_type": "code",
   "execution_count": 171,
   "metadata": {},
   "outputs": [
    {
     "data": {
      "application/vnd.jupyter.widget-view+json": {
       "model_id": "9e43e0fa062947d2a5dcfa9ac348afee",
       "version_major": 2,
       "version_minor": 0
      },
      "text/plain": [
       "VBox()"
      ]
     },
     "metadata": {},
     "output_type": "display_data"
    },
    {
     "data": {
      "application/vnd.jupyter.widget-view+json": {
       "model_id": "",
       "version_major": 2,
       "version_minor": 0
      },
      "text/plain": [
       "FloatProgress(value=0.0, bar_style='info', description='Progress:', layout=Layout(height='25px', width='50%'),…"
      ]
     },
     "metadata": {},
     "output_type": "display_data"
    },
    {
     "name": "stdout",
     "output_type": "stream",
     "text": [
      "+-----+---------+---------+---------+---------+---------+\n",
      "|state|review_15|review_16|review_17|review_18|review_19|\n",
      "+-----+---------+---------+---------+---------+---------+\n",
      "|   AZ|   285043|   333201|   384267|   424433|   398919|\n",
      "|   SC|     2905|     4214|     4946|     5770|     6384|\n",
      "|   OR|        2|        1|        1|        3|        2|\n",
      "|   VA|        6|        4|        4|        4|        5|\n",
      "|   QC|    26198|    33157|    34184|    31022|    26126|\n",
      "|   BC|        2|        1|        0|        2|        1|\n",
      "|   MI|        0|        1|        4|       11|        8|\n",
      "|   NV|   324219|   375426|   420030|   466689|   439240|\n",
      "|   WI|    18988|    21156|    21556|    20737|    16634|\n",
      "|   CA|       46|       54|       45|       53|       48|\n",
      "|   NE|        0|        0|        5|        6|        9|\n",
      "|   CT|        1|        0|        1|        4|        0|\n",
      "|   NC|    55578|    69024|    79273|    91027|    90123|\n",
      "|   VT|        0|        3|        2|        0|        1|\n",
      "|   MO|        0|        0|        0|        0|        5|\n",
      "|   IL|     5948|     6282|     6563|     5389|     4787|\n",
      "|   MB|        3|        6|        2|        3|        2|\n",
      "|  HPL|        0|        0|        0|        1|        1|\n",
      "|   WA|        5|        1|        3|        4|        1|\n",
      "|   AL|        0|        2|        4|        5|        3|\n",
      "+-----+---------+---------+---------+---------+---------+\n",
      "only showing top 20 rows"
     ]
    }
   ],
   "source": [
    "review.createOrReplaceTempView('review')\n",
    "df.createOrReplaceTempView('df')\n",
    "\n",
    "sqldf = spark.sql(\n",
    "'''\n",
    "SELECT\n",
    "\n",
    "df.state,\n",
    "\n",
    "SUM((CASE WHEN YEAR(date) like '2015' THEN 1 ELSE 0 END)) AS review_15,\n",
    "SUM((CASE WHEN YEAR(date) like '2016' THEN 1 ELSE 0 END)) AS review_16,\n",
    "SUM((CASE WHEN YEAR(date) like '2017' THEN 1 ELSE 0 END)) AS review_17,\n",
    "SUM((CASE WHEN YEAR(date) like '2018' THEN 1 ELSE 0 END)) AS review_18,\n",
    "SUM((CASE WHEN YEAR(date) like '2019' THEN 1 ELSE 0 END)) AS review_19\n",
    "FROM\n",
    "review\n",
    "JOIN\n",
    "df\n",
    "ON review.business_id=df.business_id\n",
    "GROUP BY df.state\n",
    "\n",
    "'''\n",
    ")\n",
    "\n",
    "sqldf.show()"
   ]
  },
  {
   "cell_type": "markdown",
   "metadata": {},
   "source": [
    "## 2. Elite Users Overview"
   ]
  },
  {
   "cell_type": "markdown",
   "metadata": {},
   "source": [
    "### How Many Elite Users On Yelp?"
   ]
  },
  {
   "cell_type": "code",
   "execution_count": 223,
   "metadata": {},
   "outputs": [
    {
     "data": {
      "application/vnd.jupyter.widget-view+json": {
       "model_id": "618fbd8372404b97b2da705d7ed7ab04",
       "version_major": 2,
       "version_minor": 0
      },
      "text/plain": [
       "VBox()"
      ]
     },
     "metadata": {},
     "output_type": "display_data"
    },
    {
     "data": {
      "application/vnd.jupyter.widget-view+json": {
       "model_id": "",
       "version_major": 2,
       "version_minor": 0
      },
      "text/plain": [
       "FloatProgress(value=0.0, bar_style='info', description='Progress:', layout=Layout(height='25px', width='50%'),…"
      ]
     },
     "metadata": {},
     "output_type": "display_data"
    },
    {
     "name": "stdout",
     "output_type": "stream",
     "text": [
      "+-----+-------+\n",
      "|Elite|  Count|\n",
      "+-----+-------+\n",
      "|  YES|  75961|\n",
      "|   NO|1892742|\n",
      "+-----+-------+"
     ]
    }
   ],
   "source": [
    "elite_df = spark.sql(\n",
    "'''\n",
    "SELECT (CASE WHEN elite like '' THEN 'NO' ELSE 'YES' END)AS Elite,\n",
    "COUNT((CASE WHEN elite like '' THEN 'NO' ELSE 'YES' END)) AS Count\n",
    "FROM user\n",
    "GROUP BY (CASE WHEN elite like '' THEN 'NO' ELSE 'YES' END)\n",
    "\n",
    "'''\n",
    ")\n",
    "\n",
    "elite_df.show()"
   ]
  },
  {
   "cell_type": "markdown",
   "metadata": {},
   "source": [
    "### How Many Elite Users Per Year?\n",
    "As a UGC platform,it is crucial for Yelp to maintain a community that have a consistent source of quality contents and active contributers (elites).\n",
    "Trying to see how many users are registered as elites and whether the number of elites keeps growing."
   ]
  },
  {
   "cell_type": "code",
   "execution_count": 172,
   "metadata": {},
   "outputs": [
    {
     "data": {
      "application/vnd.jupyter.widget-view+json": {
       "model_id": "6edf896014114223973099290130d219",
       "version_major": 2,
       "version_minor": 0
      },
      "text/plain": [
       "VBox()"
      ]
     },
     "metadata": {},
     "output_type": "display_data"
    },
    {
     "data": {
      "application/vnd.jupyter.widget-view+json": {
       "model_id": "",
       "version_major": 2,
       "version_minor": 0
      },
      "text/plain": [
       "FloatProgress(value=0.0, bar_style='info', description='Progress:', layout=Layout(height='25px', width='50%'),…"
      ]
     },
     "metadata": {},
     "output_type": "display_data"
    },
    {
     "name": "stdout",
     "output_type": "stream",
     "text": [
      "+--------+--------+--------+--------+--------+\n",
      "|elite_15|elite_16|elite_17|elite_18|elite_19|\n",
      "+--------+--------+--------+--------+--------+\n",
      "|   26409|   32128|   38645|   43026|       0|\n",
      "+--------+--------+--------+--------+--------+"
     ]
    }
   ],
   "source": [
    "review.createOrReplaceTempView('review')\n",
    "user.createOrReplaceTempView('user')\n",
    "\n",
    "sqldf = spark.sql(\n",
    "'''\n",
    "SELECT\n",
    "\n",
    "SUM((CASE WHEN elite like '%2015%' THEN 1 ELSE 0 END)) AS elite_15,\n",
    "SUM((CASE WHEN elite like '%2016%' THEN 1 ELSE 0 END)) AS elite_16,\n",
    "SUM((CASE WHEN elite like '%2017%' THEN 1 ELSE 0 END)) AS elite_17,\n",
    "SUM((CASE WHEN elite like '%2018%' THEN 1 ELSE 0 END)) AS elite_18,\n",
    "SUM((CASE WHEN elite like '%2019%' THEN 1 ELSE 0 END)) AS elite_19\n",
    "\n",
    "FROM user\n",
    "'''\n",
    ")\n",
    "\n",
    "sqldf.show()"
   ]
  },
  {
   "cell_type": "markdown",
   "metadata": {},
   "source": [
    "### Was The Number Of Elite Users Growing?\n"
   ]
  },
  {
   "cell_type": "code",
   "execution_count": 111,
   "metadata": {
    "scrolled": true
   },
   "outputs": [
    {
     "data": {
      "application/vnd.jupyter.widget-view+json": {
       "model_id": "2fae25a0a6d04965889d87d3bc3ef9ac",
       "version_major": 2,
       "version_minor": 0
      },
      "text/plain": [
       "VBox()"
      ]
     },
     "metadata": {},
     "output_type": "display_data"
    },
    {
     "data": {
      "application/vnd.jupyter.widget-view+json": {
       "model_id": "",
       "version_major": 2,
       "version_minor": 0
      },
      "text/plain": [
       "FloatProgress(value=0.0, bar_style='info', description='Progress:', layout=Layout(height='25px', width='50%'),…"
      ]
     },
     "metadata": {},
     "output_type": "display_data"
    },
    {
     "data": {
      "image/png": "[encoded data removed]",
      "text/plain": [
       "<IPython.core.display.Image object>"
      ]
     },
     "metadata": {},
     "output_type": "display_data"
    }
   ],
   "source": [
    "elite_df = spark.sql(\n",
    "'''\n",
    "SELECT\n",
    "SUM((CASE WHEN elite LIKE '%2007%' THEN 1 ELSE 0 END)) as Elite_07,\n",
    "SUM((CASE WHEN elite LIKE '%2008%' THEN 1 ELSE 0 END)) as Elite_08,\n",
    "SUM((CASE WHEN elite LIKE '%2009%' THEN 1 ELSE 0 END)) as Elite_09,\n",
    "SUM((CASE WHEN elite LIKE '%2010%' THEN 1 ELSE 0 END)) as Elite_10,\n",
    "SUM((CASE WHEN elite LIKE '%2011%' THEN 1 ELSE 0 END)) as Elite_11,\n",
    "SUM((CASE WHEN elite LIKE '%2012%' THEN 1 ELSE 0 END)) as Elite_12,\n",
    "SUM((CASE WHEN elite LIKE '%2013%' THEN 1 ELSE 0 END)) as Elite_13,\n",
    "SUM((CASE WHEN elite LIKE '%2014%' THEN 1 ELSE 0 END)) as Elite_14,\n",
    "SUM((CASE WHEN elite LIKE '%2015%' THEN 1 ELSE 0 END)) as Elite_15,\n",
    "SUM((CASE WHEN elite LIKE '%2016%' THEN 1 ELSE 0 END)) as Elite_16,\n",
    "SUM((CASE WHEN elite LIKE '%2017%' THEN 1 ELSE 0 END)) as Elite_17,\n",
    "SUM((CASE WHEN elite LIKE '%2018%' THEN 1 ELSE 0 END)) as Elite_18\n",
    "FROM user\n",
    "'''\n",
    ")\n",
    "\n",
    "pd_df=elite_df.toPandas().transpose()\n",
    "pd_df.columns = ['Count'] \n",
    "pd_df.plot(kind='bar')\n",
    "plt.xlabel('Year')\n",
    "plt.ylabel('Number of Elite User')\n",
    "plt.title('Yelp Number of Elite Users Overtime: 2007-2018')\n",
    "%matplot plt"
   ]
  },
  {
   "cell_type": "markdown",
   "metadata": {},
   "source": [
    "### The Number Has Been Growing. But The Growth Rate Has Been Slowing Down Long Ago"
   ]
  },
  {
   "cell_type": "code",
   "execution_count": 288,
   "metadata": {},
   "outputs": [
    {
     "data": {
      "application/vnd.jupyter.widget-view+json": {
       "model_id": "08fd2e9704cc4f09a5b716f525a1302c",
       "version_major": 2,
       "version_minor": 0
      },
      "text/plain": [
       "VBox()"
      ]
     },
     "metadata": {},
     "output_type": "display_data"
    },
    {
     "data": {
      "application/vnd.jupyter.widget-view+json": {
       "model_id": "",
       "version_major": 2,
       "version_minor": 0
      },
      "text/plain": [
       "FloatProgress(value=0.0, bar_style='info', description='Progress:', layout=Layout(height='25px', width='50%'),…"
      ]
     },
     "metadata": {},
     "output_type": "display_data"
    },
    {
     "data": {
      "image/png": "[encoded data removed]",
      "text/plain": [
       "<IPython.core.display.Image object>"
      ]
     },
     "metadata": {},
     "output_type": "display_data"
    }
   ],
   "source": [
    "import numpy as np\n",
    "x=np.arange(2007,2019,1)\n",
    "y=pd_df['Count'].values\n",
    "pd_df['YOY']=pd_df.pct_change().fillna(0)\n",
    "z=pd_df['YOY'].values\n",
    "\n",
    "fig = plt.figure(figsize=(8,4))\n",
    "ax = fig.add_subplot()\n",
    "ax.bar(x, y, width=0.5, color='g', align='center',label = 'Count')\n",
    "ax2=ax.twinx()\n",
    "ax2.plot(x+0.2, z, color=\"red\",label = 'Pct Change')\n",
    "fig.legend(loc=\"upper left\")\n",
    "ax.set_xlabel('Year')\n",
    "ax.set_title('Number of Elite Users Overtime: 2007-2018')\n",
    "\n",
    "%matplot plt"
   ]
  },
  {
   "cell_type": "markdown",
   "metadata": {},
   "source": [
    "## 3.What Are The Differences Between Elites vs. Normal Yelp Users?\n",
    "We are going to look at:how many different neighborhood (zip) elites have visited to vs. Normal \n",
    "<br/>As well as user activity metrics such as: number of reviews,number of friends"
   ]
  },
  {
   "cell_type": "markdown",
   "metadata": {},
   "source": [
    "## How Many Unique Postal Code Did The Elite Users Left Review For?"
   ]
  },
  {
   "cell_type": "code",
   "execution_count": 174,
   "metadata": {},
   "outputs": [
    {
     "data": {
      "application/vnd.jupyter.widget-view+json": {
       "model_id": "07c8832cf6e04b6d8b064c7c8eb3c60c",
       "version_major": 2,
       "version_minor": 0
      },
      "text/plain": [
       "VBox()"
      ]
     },
     "metadata": {},
     "output_type": "display_data"
    },
    {
     "data": {
      "application/vnd.jupyter.widget-view+json": {
       "model_id": "",
       "version_major": 2,
       "version_minor": 0
      },
      "text/plain": [
       "FloatProgress(value=0.0, bar_style='info', description='Progress:', layout=Layout(height='25px', width='50%'),…"
      ]
     },
     "metadata": {},
     "output_type": "display_data"
    },
    {
     "name": "stdout",
     "output_type": "stream",
     "text": [
      "+-------------+\n",
      "|Unique_Review|\n",
      "+-------------+\n",
      "|            1|\n",
      "|            7|\n",
      "|           15|\n",
      "|           11|\n",
      "|            3|\n",
      "|            7|\n",
      "|           28|\n",
      "|            5|\n",
      "|            2|\n",
      "|            4|\n",
      "|            2|\n",
      "|            1|\n",
      "|            2|\n",
      "|            4|\n",
      "|            4|\n",
      "|            7|\n",
      "|            3|\n",
      "|            2|\n",
      "|            5|\n",
      "|            1|\n",
      "+-------------+\n",
      "only showing top 20 rows"
     ]
    }
   ],
   "source": [
    "review.createOrReplaceTempView('review')\n",
    "user.createOrReplaceTempView('user')\n",
    "df.createOrReplaceTempView('bus')\n",
    "\n",
    "elite_df = spark.sql(\n",
    "'''\n",
    "SELECT\n",
    "\n",
    "COUNT (DISTINCT(bus.postal_code)) as Unique_Review\n",
    "FROM user\n",
    "JOIN review\n",
    "ON user.user_id=review.user_id\n",
    "JOIN\n",
    "bus\n",
    "ON\n",
    "review.business_id=bus.business_id\n",
    "WHERE elite NOT LIKE ''\n",
    "GROUP BY user.user_id\n",
    "\n",
    "'''\n",
    ")\n",
    "\n",
    "elite_df.show()"
   ]
  },
  {
   "cell_type": "markdown",
   "metadata": {},
   "source": [
    "## Elites, in average, visited resturants across more neighborhoods than the normal users"
   ]
  },
  {
   "cell_type": "code",
   "execution_count": 175,
   "metadata": {},
   "outputs": [
    {
     "data": {
      "application/vnd.jupyter.widget-view+json": {
       "model_id": "30de4c8be7ec4037aac1fa97706beb7c",
       "version_major": 2,
       "version_minor": 0
      },
      "text/plain": [
       "VBox()"
      ]
     },
     "metadata": {},
     "output_type": "display_data"
    },
    {
     "data": {
      "application/vnd.jupyter.widget-view+json": {
       "model_id": "",
       "version_major": 2,
       "version_minor": 0
      },
      "text/plain": [
       "FloatProgress(value=0.0, bar_style='info', description='Progress:', layout=Layout(height='25px', width='50%'),…"
      ]
     },
     "metadata": {},
     "output_type": "display_data"
    },
    {
     "data": {
      "image/png": "[encoded data removed]",
      "text/plain": [
       "<IPython.core.display.Image object>"
      ]
     },
     "metadata": {},
     "output_type": "display_data"
    }
   ],
   "source": [
    "elite_df.toPandas().plot(kind='hist',bins=500)\n",
    "plt.xlabel('k')\n",
    "plt.xlim(left=0,right=200)\n",
    "%matplot plt"
   ]
  },
  {
   "cell_type": "markdown",
   "metadata": {},
   "source": [
    "### How Many Non-Elite Users On Yelp / Unique Count of Postal Codes / Plot.."
   ]
  },
  {
   "cell_type": "code",
   "execution_count": 13,
   "metadata": {},
   "outputs": [
    {
     "data": {
      "application/vnd.jupyter.widget-view+json": {
       "model_id": "15a9aa2fa8204c44a32b4780ef2eadf4",
       "version_major": 2,
       "version_minor": 0
      },
      "text/plain": [
       "VBox()"
      ]
     },
     "metadata": {},
     "output_type": "display_data"
    },
    {
     "data": {
      "application/vnd.jupyter.widget-view+json": {
       "model_id": "",
       "version_major": 2,
       "version_minor": 0
      },
      "text/plain": [
       "FloatProgress(value=0.0, bar_style='info', description='Progress:', layout=Layout(height='25px', width='50%'),…"
      ]
     },
     "metadata": {},
     "output_type": "display_data"
    },
    {
     "name": "stdout",
     "output_type": "stream",
     "text": [
      "+-----------+\n",
      "|Elite_Count|\n",
      "+-----------+\n",
      "|    1892742|\n",
      "+-----------+"
     ]
    }
   ],
   "source": [
    "review.createOrReplaceTempView('review')\n",
    "user.createOrReplaceTempView('user')\n",
    "df.createOrReplaceTempView('bus')\n",
    "\n",
    "sqldf = spark.sql(\n",
    "'''\n",
    "SELECT\n",
    "\n",
    "COUNT(DISTINCT user_id) as Elite_Count\n",
    "\n",
    "FROM user\n",
    "WHERE elite LIKE ''\n",
    "'''\n",
    ")\n",
    "\n",
    "sqldf.show()"
   ]
  },
  {
   "cell_type": "markdown",
   "metadata": {},
   "source": [
    "### How Many Unique Postal Code Did The Non-Elite Users Left Review For?"
   ]
  },
  {
   "cell_type": "code",
   "execution_count": 180,
   "metadata": {},
   "outputs": [
    {
     "data": {
      "application/vnd.jupyter.widget-view+json": {
       "model_id": "2c22a076aa7949418176c30023f1f45b",
       "version_major": 2,
       "version_minor": 0
      },
      "text/plain": [
       "VBox()"
      ]
     },
     "metadata": {},
     "output_type": "display_data"
    },
    {
     "data": {
      "application/vnd.jupyter.widget-view+json": {
       "model_id": "",
       "version_major": 2,
       "version_minor": 0
      },
      "text/plain": [
       "FloatProgress(value=0.0, bar_style='info', description='Progress:', layout=Layout(height='25px', width='50%'),…"
      ]
     },
     "metadata": {},
     "output_type": "display_data"
    },
    {
     "data": {
      "image/png": "[encoded data removed]",
      "text/plain": [
       "<IPython.core.display.Image object>"
      ]
     },
     "metadata": {},
     "output_type": "display_data"
    }
   ],
   "source": [
    "review.createOrReplaceTempView('review')\n",
    "user.createOrReplaceTempView('user')\n",
    "df.createOrReplaceTempView('bus')\n",
    "\n",
    "elite_df = spark.sql(\n",
    "'''\n",
    "SELECT\n",
    "\n",
    "COUNT (DISTINCT(bus.postal_code)) as Unique_Review\n",
    "FROM user\n",
    "JOIN review\n",
    "ON user.user_id=review.user_id\n",
    "JOIN\n",
    "bus\n",
    "ON\n",
    "review.business_id=bus.business_id\n",
    "WHERE elite LIKE ''\n",
    "GROUP BY user.user_id\n",
    "\n",
    "'''\n",
    ")\n",
    "\n",
    "elite_df.show()\n",
    "\n",
    "elite_df.toPandas().plot(kind='hist',bins=500)\n",
    "plt.xlabel('k')\n",
    "plt.xlim(left=0,right=200)\n",
    "%matplot plt\n"
   ]
  },
  {
   "cell_type": "markdown",
   "metadata": {},
   "source": [
    "### Comparing User Activity Metrics"
   ]
  },
  {
   "cell_type": "code",
   "execution_count": 296,
   "metadata": {},
   "outputs": [
    {
     "data": {
      "application/vnd.jupyter.widget-view+json": {
       "model_id": "8eed48a4cf1e43ce80416c84151378e6",
       "version_major": 2,
       "version_minor": 0
      },
      "text/plain": [
       "VBox()"
      ]
     },
     "metadata": {},
     "output_type": "display_data"
    },
    {
     "data": {
      "application/vnd.jupyter.widget-view+json": {
       "model_id": "",
       "version_major": 2,
       "version_minor": 0
      },
      "text/plain": [
       "FloatProgress(value=0.0, bar_style='info', description='Progress:', layout=Layout(height='25px', width='50%'),…"
      ]
     },
     "metadata": {},
     "output_type": "display_data"
    }
   ],
   "source": [
    "user_df = spark.sql(\n",
    "'''\n",
    "SELECT average_stars,elite\n",
    "FROM user\n",
    "'''\n",
    ")\n",
    "\n",
    "user_pd=user_df.toPandas()"
   ]
  },
  {
   "cell_type": "code",
   "execution_count": 298,
   "metadata": {},
   "outputs": [
    {
     "data": {
      "application/vnd.jupyter.widget-view+json": {
       "model_id": "8181f80b977a471987182b26839b0b1e",
       "version_major": 2,
       "version_minor": 0
      },
      "text/plain": [
       "VBox()"
      ]
     },
     "metadata": {},
     "output_type": "display_data"
    },
    {
     "data": {
      "application/vnd.jupyter.widget-view+json": {
       "model_id": "",
       "version_major": 2,
       "version_minor": 0
      },
      "text/plain": [
       "FloatProgress(value=0.0, bar_style='info', description='Progress:', layout=Layout(height='25px', width='50%'),…"
      ]
     },
     "metadata": {},
     "output_type": "display_data"
    }
   ],
   "source": [
    "user_pd.loc[user_pd['elite'] == '', 'is_elite'] = False \n",
    "user_pd.loc[user_pd['elite'] != '', 'is_elite'] = True "
   ]
  },
  {
   "cell_type": "code",
   "execution_count": 268,
   "metadata": {},
   "outputs": [
    {
     "data": {
      "application/vnd.jupyter.widget-view+json": {
       "model_id": "41b8b1b668474d0096a7d24871c12206",
       "version_major": 2,
       "version_minor": 0
      },
      "text/plain": [
       "VBox()"
      ]
     },
     "metadata": {},
     "output_type": "display_data"
    },
    {
     "data": {
      "application/vnd.jupyter.widget-view+json": {
       "model_id": "",
       "version_major": 2,
       "version_minor": 0
      },
      "text/plain": [
       "FloatProgress(value=0.0, bar_style='info', description='Progress:', layout=Layout(height='25px', width='50%'),…"
      ]
     },
     "metadata": {},
     "output_type": "display_data"
    },
    {
     "name": "stdout",
     "output_type": "stream",
     "text": [
      "         average_stars is_elite\n",
      "0                 3.57    False\n",
      "1                 3.84     True\n",
      "2                 3.44     True\n",
      "3                 3.08     True\n",
      "4                 4.37     True\n",
      "...                ...      ...\n",
      "1968698           3.56    False\n",
      "1968699           2.30    False\n",
      "1968700           1.00    False\n",
      "1968701           1.00    False\n",
      "1968702           5.00    False\n",
      "\n",
      "[1968703 rows x 2 columns]"
     ]
    }
   ],
   "source": [
    "# user_pd=user_pd.drop('elite',axis=1)\n",
    "print(user_pd)"
   ]
  },
  {
   "cell_type": "code",
   "execution_count": 281,
   "metadata": {},
   "outputs": [
    {
     "data": {
      "application/vnd.jupyter.widget-view+json": {
       "model_id": "2d30189cd36f40bbb772372c819db1b0",
       "version_major": 2,
       "version_minor": 0
      },
      "text/plain": [
       "VBox()"
      ]
     },
     "metadata": {},
     "output_type": "display_data"
    },
    {
     "data": {
      "application/vnd.jupyter.widget-view+json": {
       "model_id": "",
       "version_major": 2,
       "version_minor": 0
      },
      "text/plain": [
       "FloatProgress(value=0.0, bar_style='info', description='Progress:', layout=Layout(height='25px', width='50%'),…"
      ]
     },
     "metadata": {},
     "output_type": "display_data"
    }
   ],
   "source": [
    "plt.clf()"
   ]
  },
  {
   "cell_type": "markdown",
   "metadata": {},
   "source": [
    "## Rating Range of Elite Users Smaller\n",
    "Elites users are more careful in terms of rating. Most of them give 3.5 - 4. They can be harsh at times: gave out low ratings <3.0\n",
    "<br/>Normal users,on the contravary,usually gave 3.0~4.5"
   ]
  },
  {
   "cell_type": "code",
   "execution_count": 299,
   "metadata": {},
   "outputs": [
    {
     "data": {
      "application/vnd.jupyter.widget-view+json": {
       "model_id": "bb2460f00d654e1ca430415705546386",
       "version_major": 2,
       "version_minor": 0
      },
      "text/plain": [
       "VBox()"
      ]
     },
     "metadata": {},
     "output_type": "display_data"
    },
    {
     "data": {
      "application/vnd.jupyter.widget-view+json": {
       "model_id": "",
       "version_major": 2,
       "version_minor": 0
      },
      "text/plain": [
       "FloatProgress(value=0.0, bar_style='info', description='Progress:', layout=Layout(height='25px', width='50%'),…"
      ]
     },
     "metadata": {},
     "output_type": "display_data"
    },
    {
     "data": {
      "image/png": "[encoded data removed]",
      "text/plain": [
       "<IPython.core.display.Image object>"
      ]
     },
     "metadata": {},
     "output_type": "display_data"
    }
   ],
   "source": [
    "fig, ax = plt.subplots(figsize=(8,5))\n",
    "plt.suptitle('')\n",
    "user_pd.boxplot(column=['average_stars'], by='is_elite', ax=ax)\n",
    "\n",
    "%matplot plt"
   ]
  },
  {
   "cell_type": "markdown",
   "metadata": {},
   "source": [
    "## Number Of Reviews\n",
    "Elites post more reviews compare to normal users. With couple 'Star Elites' who posted significantly more number of views compare to the overall users group"
   ]
  },
  {
   "cell_type": "code",
   "execution_count": 290,
   "metadata": {},
   "outputs": [
    {
     "data": {
      "application/vnd.jupyter.widget-view+json": {
       "model_id": "6fa04aade7e0448ca1af10cc791fca33",
       "version_major": 2,
       "version_minor": 0
      },
      "text/plain": [
       "VBox()"
      ]
     },
     "metadata": {},
     "output_type": "display_data"
    },
    {
     "data": {
      "application/vnd.jupyter.widget-view+json": {
       "model_id": "",
       "version_major": 2,
       "version_minor": 0
      },
      "text/plain": [
       "FloatProgress(value=0.0, bar_style='info', description='Progress:', layout=Layout(height='25px', width='50%'),…"
      ]
     },
     "metadata": {},
     "output_type": "display_data"
    },
    {
     "data": {
      "image/png": "[encoded data removed]",
      "text/plain": [
       "<IPython.core.display.Image object>"
      ]
     },
     "metadata": {},
     "output_type": "display_data"
    }
   ],
   "source": [
    "user_df = spark.sql(\n",
    "'''\n",
    "SELECT review_count,elite\n",
    "FROM user\n",
    "'''\n",
    ")\n",
    "\n",
    "user_pd=user_df.toPandas()\n",
    "\n",
    "user_pd.loc[user_pd['elite'] == '', 'is_elite'] = False \n",
    "user_pd.loc[user_pd['elite'] != '', 'is_elite'] = True \n",
    "\n",
    "fig, ax = plt.subplots(figsize=(8,5))\n",
    "plt.suptitle('')\n",
    "user_pd.boxplot(column=['review_count'], by='is_elite', ax=ax)\n",
    "\n",
    "%matplot plt"
   ]
  },
  {
   "cell_type": "markdown",
   "metadata": {},
   "source": [
    "## Number Of Useful Review\n",
    "Reviews posted by Elites are more frequently selected as useful compare to the normal users"
   ]
  },
  {
   "cell_type": "code",
   "execution_count": 300,
   "metadata": {},
   "outputs": [
    {
     "data": {
      "application/vnd.jupyter.widget-view+json": {
       "model_id": "bc91cca711a44906b5ff7053853d9912",
       "version_major": 2,
       "version_minor": 0
      },
      "text/plain": [
       "VBox()"
      ]
     },
     "metadata": {},
     "output_type": "display_data"
    },
    {
     "data": {
      "application/vnd.jupyter.widget-view+json": {
       "model_id": "",
       "version_major": 2,
       "version_minor": 0
      },
      "text/plain": [
       "FloatProgress(value=0.0, bar_style='info', description='Progress:', layout=Layout(height='25px', width='50%'),…"
      ]
     },
     "metadata": {},
     "output_type": "display_data"
    },
    {
     "data": {
      "image/png": "[encoded data removed]",
      "text/plain": [
       "<IPython.core.display.Image object>"
      ]
     },
     "metadata": {},
     "output_type": "display_data"
    }
   ],
   "source": [
    "user_df = spark.sql(\n",
    "'''\n",
    "SELECT useful,elite\n",
    "FROM user\n",
    "'''\n",
    ")\n",
    "\n",
    "user_pd=user_df.toPandas()\n",
    "\n",
    "user_pd.loc[user_pd['elite'] == '', 'is_elite'] = False \n",
    "user_pd.loc[user_pd['elite'] != '', 'is_elite'] = True \n",
    "\n",
    "fig, ax = plt.subplots(figsize=(8,5))\n",
    "plt.suptitle('')\n",
    "user_pd.boxplot(column=['useful'], by='is_elite', ax=ax)\n",
    "\n",
    "%matplot plt"
   ]
  },
  {
   "cell_type": "markdown",
   "metadata": {},
   "source": [
    "## (Not For Project 2) Simple NLP: Text Processing & Sentiment Analysis\n",
    "Attempted to analyze user reviews; but aws threws error everytime I try to iterate through a list of reviews. Looking to get professor's feedback on processing large text data"
   ]
  },
  {
   "cell_type": "code",
   "execution_count": 8,
   "metadata": {},
   "outputs": [
    {
     "data": {
      "application/vnd.jupyter.widget-view+json": {
       "model_id": "9343c6606e5546dfbbb625719207e72b",
       "version_major": 2,
       "version_minor": 0
      },
      "text/plain": [
       "VBox()"
      ]
     },
     "metadata": {},
     "output_type": "display_data"
    },
    {
     "data": {
      "application/vnd.jupyter.widget-view+json": {
       "model_id": "",
       "version_major": 2,
       "version_minor": 0
      },
      "text/plain": [
       "FloatProgress(value=0.0, bar_style='info', description='Progress:', layout=Layout(height='25px', width='50%'),…"
      ]
     },
     "metadata": {},
     "output_type": "display_data"
    },
    {
     "name": "stdout",
     "output_type": "stream",
     "text": [
      "Processing /mnt/var/lib/livy/.cache/pip/wheels/de/5e/42/64abaeca668161c3e2cecc24f864a8fc421e3d07a104fc8a51/nltk-3.5-py3-none-any.whl\n",
      "Collecting tqdm\n",
      "  Using cached tqdm-4.45.0-py2.py3-none-any.whl (60 kB)\n",
      "Collecting regex\n",
      "  Using cached regex-2020.4.4-cp36-cp36m-manylinux2010_x86_64.whl (679 kB)\n",
      "Collecting joblib\n",
      "  Using cached joblib-0.14.1-py2.py3-none-any.whl (294 kB)\n",
      "Collecting click\n",
      "  Using cached click-7.1.2-py2.py3-none-any.whl (82 kB)\n",
      "Installing collected packages: tqdm, regex, joblib, click, nltk\n",
      "  Attempting uninstall: nltk\n",
      "    Found existing installation: nltk 3.4.5\n",
      "    Not uninstalling nltk at /usr/local/lib/python3.6/site-packages, outside environment /tmp/1588138001850-0\n",
      "    Can't uninstall 'nltk'. No files were found to uninstall.\n",
      "Successfully installed click-7.1.2 joblib-0.14.1 nltk-3.5 regex-2020.4.4 tqdm-4.45.0\n",
      "\n",
      "Collecting wordcloud==1.6.0\n",
      "  Using cached wordcloud-1.6.0-cp36-cp36m-manylinux1_x86_64.whl (361 kB)\n",
      "Collecting pillow\n",
      "  Using cached Pillow-7.1.2-cp36-cp36m-manylinux1_x86_64.whl (2.1 MB)\n",
      "Requirement already satisfied: matplotlib in /mnt/tmp/1588138001850-0/lib64/python3.6/site-packages (from wordcloud==1.6.0) (3.2.1)\n",
      "Requirement already satisfied: numpy>=1.6.1 in /usr/local/lib64/python3.6/site-packages (from wordcloud==1.6.0) (1.14.5)\n",
      "Requirement already satisfied: pyparsing!=2.0.4,!=2.1.2,!=2.1.6,>=2.0.1 in /mnt/tmp/1588138001850-0/lib/python3.6/site-packages (from matplotlib->wordcloud==1.6.0) (2.4.7)\n",
      "Requirement already satisfied: python-dateutil>=2.1 in /mnt/tmp/1588138001850-0/lib/python3.6/site-packages (from matplotlib->wordcloud==1.6.0) (2.8.1)\n",
      "Requirement already satisfied: kiwisolver>=1.0.1 in /mnt/tmp/1588138001850-0/lib64/python3.6/site-packages (from matplotlib->wordcloud==1.6.0) (1.2.0)\n",
      "Requirement already satisfied: cycler>=0.10 in /mnt/tmp/1588138001850-0/lib/python3.6/site-packages (from matplotlib->wordcloud==1.6.0) (0.10.0)\n",
      "Requirement already satisfied: six>=1.5 in /usr/local/lib/python3.6/site-packages (from python-dateutil>=2.1->matplotlib->wordcloud==1.6.0) (1.13.0)\n",
      "Installing collected packages: pillow, wordcloud\n",
      "Successfully installed pillow-7.1.2 wordcloud-1.6.0"
     ]
    }
   ],
   "source": [
    "sc.install_pypi_package(\"nltk==3.5\")\n",
    "sc.install_pypi_package(\"wordcloud==1.6.0\")"
   ]
  },
  {
   "cell_type": "code",
   "execution_count": 9,
   "metadata": {},
   "outputs": [
    {
     "data": {
      "application/vnd.jupyter.widget-view+json": {
       "model_id": "5bfcc7aa846e4cb49c516880c23a30dd",
       "version_major": 2,
       "version_minor": 0
      },
      "text/plain": [
       "VBox()"
      ]
     },
     "metadata": {},
     "output_type": "display_data"
    },
    {
     "data": {
      "application/vnd.jupyter.widget-view+json": {
       "model_id": "",
       "version_major": 2,
       "version_minor": 0
      },
      "text/plain": [
       "FloatProgress(value=0.0, bar_style='info', description='Progress:', layout=Layout(height='25px', width='50%'),…"
      ]
     },
     "metadata": {},
     "output_type": "display_data"
    }
   ],
   "source": [
    "import nltk\n",
    "from nltk.corpus import stopwords\n",
    "from nltk.stem import WordNetLemmatizer\n",
    "from wordcloud import WordCloud \n",
    "import pandas as pd\n",
    "import re\n",
    "import string"
   ]
  },
  {
   "cell_type": "markdown",
   "metadata": {},
   "source": [
    "## This gave me error "
   ]
  },
  {
   "cell_type": "code",
   "execution_count": 11,
   "metadata": {},
   "outputs": [
    {
     "data": {
      "application/vnd.jupyter.widget-view+json": {
       "model_id": "ae53ea999b1b4de0b2dd9b01c5dc3127",
       "version_major": 2,
       "version_minor": 0
      },
      "text/plain": [
       "VBox()"
      ]
     },
     "metadata": {},
     "output_type": "display_data"
    },
    {
     "data": {
      "application/vnd.jupyter.widget-view+json": {
       "model_id": "",
       "version_major": 2,
       "version_minor": 0
      },
      "text/plain": [
       "FloatProgress(value=0.0, bar_style='info', description='Progress:', layout=Layout(height='25px', width='50%'),…"
      ]
     },
     "metadata": {},
     "output_type": "display_data"
    }
   ],
   "source": [
    "# user_review = review.select(\"text\").rdd.flatMap(lambda x: x)\n",
    "# user_review.collect()"
   ]
  },
  {
   "cell_type": "markdown",
   "metadata": {},
   "source": [
    "## Used SQL instead"
   ]
  },
  {
   "cell_type": "code",
   "execution_count": null,
   "metadata": {},
   "outputs": [
    {
     "data": {
      "application/vnd.jupyter.widget-view+json": {
       "model_id": "b7067e97e75346f88fd57904f4b1f022",
       "version_major": 2,
       "version_minor": 0
      },
      "text/plain": [
       "VBox()"
      ]
     },
     "metadata": {},
     "output_type": "display_data"
    },
    {
     "data": {
      "application/vnd.jupyter.widget-view+json": {
       "model_id": "8eb11ade45654435b36ac099163f2ede",
       "version_major": 2,
       "version_minor": 0
      },
      "text/plain": [
       "FloatProgress(value=0.0, bar_style='info', description='Progress:', layout=Layout(height='25px', width='50%'),…"
      ]
     },
     "metadata": {},
     "output_type": "display_data"
    }
   ],
   "source": [
    "review_df = spark.sql(\n",
    "'''\n",
    "SELECT date,text\n",
    "FROM review\n",
    "WHERE date LIKE '%2018%'\n",
    "'''\n",
    ")\n",
    "\n",
    "review_pd=review_df.toPandas()"
   ]
  },
  {
   "cell_type": "code",
   "execution_count": 23,
   "metadata": {},
   "outputs": [
    {
     "data": {
      "application/vnd.jupyter.widget-view+json": {
       "model_id": "a4a406049cb948f5abad3b4b4223b657",
       "version_major": 2,
       "version_minor": 0
      },
      "text/plain": [
       "VBox()"
      ]
     },
     "metadata": {},
     "output_type": "display_data"
    },
    {
     "name": "stderr",
     "output_type": "stream",
     "text": [
      "An error was encountered:\n",
      "Session 1 unexpectedly reached final status 'error'. See logs:\n",
      "stdout: \n",
      "\n",
      "stderr: \n",
      "20/04/29 05:08:27 INFO BlockManagerInfo: Added taskresult_108 in memory on ip-172-31-34-255.us-east-2.compute.internal:44195 (size: 13.8 MB, free: 5.3 GB)\n",
      "20/04/29 05:08:27 INFO TaskSetManager: Starting task 15.0 in stage 5.0 (TID 116, ip-172-31-34-255.us-east-2.compute.internal, executor 4, partition 15, RACK_LOCAL, 8274 bytes)\n",
      "20/04/29 05:08:27 INFO TaskSetManager: Finished task 7.0 in stage 5.0 (TID 108) in 4605 ms on ip-172-31-34-255.us-east-2.compute.internal (executor 4) (8/48)\n",
      "20/04/29 05:08:27 INFO BlockManagerInfo: Removed taskresult_108 on ip-172-31-34-255.us-east-2.compute.internal:44195 in memory (size: 13.8 MB, free: 5.4 GB)\n",
      "20/04/29 05:08:29 INFO BlockManagerInfo: Added taskresult_110 in memory on ip-172-31-40-99.us-east-2.compute.internal:32911 (size: 8.3 MB, free: 5.4 GB)\n",
      "20/04/29 05:08:29 INFO TaskSetManager: Starting task 16.0 in stage 5.0 (TID 117, ip-172-31-40-99.us-east-2.compute.internal, executor 3, partition 16, RACK_LOCAL, 8274 bytes)\n",
      "20/04/29 05:08:29 INFO TaskSetManager: Finished task 9.0 in stage 5.0 (TID 110) in 3162 ms on ip-172-31-40-99.us-east-2.compute.internal (executor 3) (9/48)\n",
      "20/04/29 05:08:29 INFO BlockManagerInfo: Removed taskresult_110 on ip-172-31-40-99.us-east-2.compute.internal:32911 in memory (size: 8.3 MB, free: 5.4 GB)\n",
      "20/04/29 05:08:30 INFO BlockManagerInfo: Added taskresult_111 in memory on ip-172-31-34-255.us-east-2.compute.internal:44195 (size: 8.0 MB, free: 5.4 GB)\n",
      "20/04/29 05:08:30 INFO TaskSetManager: Starting task 17.0 in stage 5.0 (TID 118, ip-172-31-34-255.us-east-2.compute.internal, executor 4, partition 17, RACK_LOCAL, 8274 bytes)\n",
      "20/04/29 05:08:30 INFO TaskSetManager: Finished task 10.0 in stage 5.0 (TID 111) in 3489 ms on ip-172-31-34-255.us-east-2.compute.internal (executor 4) (10/48)\n",
      "20/04/29 05:08:30 INFO BlockManagerInfo: Added taskresult_109 in memory on ip-172-31-40-99.us-east-2.compute.internal:32911 (size: 13.5 MB, free: 5.3 GB)\n",
      "20/04/29 05:08:30 INFO TaskSetManager: Starting task 18.0 in stage 5.0 (TID 119, ip-172-31-40-99.us-east-2.compute.internal, executor 3, partition 18, RACK_LOCAL, 8274 bytes)\n",
      "20/04/29 05:08:30 INFO BlockManagerInfo: Removed taskresult_111 on ip-172-31-34-255.us-east-2.compute.internal:44195 in memory (size: 8.0 MB, free: 5.4 GB)\n",
      "20/04/29 05:08:30 INFO BlockManagerInfo: Added taskresult_114 in memory on ip-172-31-34-255.us-east-2.compute.internal:44195 (size: 11.6 MB, free: 5.4 GB)\n",
      "20/04/29 05:08:30 INFO TaskSetManager: Starting task 19.0 in stage 5.0 (TID 120, ip-172-31-34-255.us-east-2.compute.internal, executor 4, partition 19, RACK_LOCAL, 8274 bytes)\n",
      "20/04/29 05:08:30 INFO TaskSetManager: Finished task 8.0 in stage 5.0 (TID 109) in 3953 ms on ip-172-31-40-99.us-east-2.compute.internal (executor 3) (11/48)\n",
      "20/04/29 05:08:30 INFO BlockManagerInfo: Added taskresult_112 in memory on ip-172-31-40-99.us-east-2.compute.internal:32911 (size: 7.7 MB, free: 5.3 GB)\n",
      "20/04/29 05:08:30 INFO BlockManagerInfo: Removed taskresult_109 on ip-172-31-40-99.us-east-2.compute.internal:32911 in memory (size: 13.5 MB, free: 5.4 GB)\n",
      "20/04/29 05:08:30 INFO TaskSetManager: Starting task 20.0 in stage 5.0 (TID 121, ip-172-31-40-99.us-east-2.compute.internal, executor 3, partition 20, RACK_LOCAL, 8274 bytes)\n",
      "20/04/29 05:08:30 INFO TaskSetManager: Finished task 13.0 in stage 5.0 (TID 114) in 3334 ms on ip-172-31-34-255.us-east-2.compute.internal (executor 4) (12/48)\n",
      "20/04/29 05:08:30 INFO BlockManagerInfo: Removed taskresult_114 on ip-172-31-34-255.us-east-2.compute.internal:44195 in memory (size: 11.6 MB, free: 5.4 GB)\n",
      "20/04/29 05:08:30 INFO TaskSetManager: Finished task 11.0 in stage 5.0 (TID 112) in 3540 ms on ip-172-31-40-99.us-east-2.compute.internal (executor 3) (13/48)\n",
      "20/04/29 05:08:30 INFO BlockManagerInfo: Removed taskresult_112 on ip-172-31-40-99.us-east-2.compute.internal:32911 in memory (size: 7.7 MB, free: 5.4 GB)\n",
      "20/04/29 05:08:30 INFO BlockManagerInfo: Added taskresult_115 in memory on ip-172-31-40-99.us-east-2.compute.internal:32911 (size: 7.9 MB, free: 5.4 GB)\n",
      "20/04/29 05:08:30 INFO TaskSetManager: Starting task 21.0 in stage 5.0 (TID 122, ip-172-31-40-99.us-east-2.compute.internal, executor 3, partition 21, RACK_LOCAL, 8274 bytes)\n",
      "20/04/29 05:08:30 INFO TaskSetManager: Finished task 14.0 in stage 5.0 (TID 115) in 3382 ms on ip-172-31-40-99.us-east-2.compute.internal (executor 3) (14/48)\n",
      "20/04/29 05:08:30 INFO BlockManagerInfo: Removed taskresult_115 on ip-172-31-40-99.us-east-2.compute.internal:32911 in memory (size: 7.9 MB, free: 5.4 GB)\n",
      "20/04/29 05:08:30 INFO BlockManagerInfo: Added taskresult_113 in memory on ip-172-31-34-255.us-east-2.compute.internal:44195 (size: 15.9 MB, free: 5.3 GB)\n",
      "20/04/29 05:08:30 INFO TaskSetManager: Starting task 22.0 in stage 5.0 (TID 123, ip-172-31-34-255.us-east-2.compute.internal, executor 4, partition 22, RACK_LOCAL, 8274 bytes)\n",
      "20/04/29 05:08:30 INFO TaskSetManager: Finished task 12.0 in stage 5.0 (TID 113) in 3695 ms on ip-172-31-34-255.us-east-2.compute.internal (executor 4) (15/48)\n",
      "20/04/29 05:08:30 INFO BlockManagerInfo: Removed taskresult_113 on ip-172-31-34-255.us-east-2.compute.internal:44195 in memory (size: 15.9 MB, free: 5.4 GB)\n",
      "20/04/29 05:08:30 INFO BlockManagerInfo: Added taskresult_116 in memory on ip-172-31-34-255.us-east-2.compute.internal:44195 (size: 8.0 MB, free: 5.4 GB)\n",
      "20/04/29 05:08:30 INFO TaskSetManager: Starting task 23.0 in stage 5.0 (TID 124, ip-172-31-34-255.us-east-2.compute.internal, executor 4, partition 23, RACK_LOCAL, 8274 bytes)\n",
      "20/04/29 05:08:30 INFO TaskSetManager: Finished task 15.0 in stage 5.0 (TID 116) in 3237 ms on ip-172-31-34-255.us-east-2.compute.internal (executor 4) (16/48)\n",
      "20/04/29 05:08:30 INFO BlockManagerInfo: Removed taskresult_116 on ip-172-31-34-255.us-east-2.compute.internal:44195 in memory (size: 8.0 MB, free: 5.4 GB)\n",
      "20/04/29 05:08:33 INFO BlockManagerInfo: Added taskresult_119 in memory on ip-172-31-40-99.us-east-2.compute.internal:32911 (size: 12.1 MB, free: 5.4 GB)\n",
      "20/04/29 05:08:33 INFO TaskSetManager: Starting task 24.0 in stage 5.0 (TID 125, ip-172-31-40-99.us-east-2.compute.internal, executor 3, partition 24, RACK_LOCAL, 8274 bytes)\n",
      "20/04/29 05:08:33 INFO TaskSetManager: Finished task 18.0 in stage 5.0 (TID 119) in 3178 ms on ip-172-31-40-99.us-east-2.compute.internal (executor 3) (17/48)\n",
      "20/04/29 05:08:33 INFO BlockManagerInfo: Removed taskresult_119 on ip-172-31-40-99.us-east-2.compute.internal:32911 in memory (size: 12.1 MB, free: 5.4 GB)\n",
      "20/04/29 05:08:33 INFO BlockManagerInfo: Added taskresult_120 in memory on ip-172-31-34-255.us-east-2.compute.internal:44195 (size: 8.0 MB, free: 5.4 GB)\n",
      "20/04/29 05:08:33 INFO BlockManagerInfo: Added taskresult_122 in memory on ip-172-31-40-99.us-east-2.compute.internal:32911 (size: 11.6 MB, free: 5.4 GB)\n",
      "20/04/29 05:08:33 INFO TaskSetManager: Starting task 25.0 in stage 5.0 (TID 126, ip-172-31-40-99.us-east-2.compute.internal, executor 3, partition 25, RACK_LOCAL, 8274 bytes)\n",
      "20/04/29 05:08:33 INFO TaskSetManager: Starting task 26.0 in stage 5.0 (TID 127, ip-172-31-34-255.us-east-2.compute.internal, executor 4, partition 26, RACK_LOCAL, 8274 bytes)\n",
      "20/04/29 05:08:33 INFO BlockManagerInfo: Added taskresult_118 in memory on ip-172-31-34-255.us-east-2.compute.internal:44195 (size: 13.7 MB, free: 5.3 GB)\n",
      "20/04/29 05:08:33 INFO TaskSetManager: Starting task 27.0 in stage 5.0 (TID 128, ip-172-31-34-255.us-east-2.compute.internal, executor 4, partition 27, RACK_LOCAL, 8274 bytes)\n",
      "20/04/29 05:08:33 INFO TaskSetManager: Finished task 19.0 in stage 5.0 (TID 120) in 3420 ms on ip-172-31-34-255.us-east-2.compute.internal (executor 4) (18/48)\n",
      "20/04/29 05:08:33 INFO BlockManagerInfo: Removed taskresult_120 on ip-172-31-34-255.us-east-2.compute.internal:44195 in memory (size: 8.0 MB, free: 5.3 GB)\n",
      "20/04/29 05:08:33 INFO TaskSetManager: Finished task 17.0 in stage 5.0 (TID 118) in 3537 ms on ip-172-31-34-255.us-east-2.compute.internal (executor 4) (19/48)\n",
      "20/04/29 05:08:33 INFO BlockManagerInfo: Removed taskresult_118 on ip-172-31-34-255.us-east-2.compute.internal:44195 in memory (size: 13.7 MB, free: 5.4 GB)\n",
      "20/04/29 05:08:33 INFO BlockManagerInfo: Added taskresult_121 in memory on ip-172-31-40-99.us-east-2.compute.internal:32911 (size: 7.9 MB, free: 5.3 GB)\n",
      "20/04/29 05:08:33 INFO TaskSetManager: Finished task 21.0 in stage 5.0 (TID 122) in 3205 ms on ip-172-31-40-99.us-east-2.compute.internal (executor 3) (20/48)\n",
      "20/04/29 05:08:33 INFO BlockManagerInfo: Removed taskresult_122 on ip-172-31-40-99.us-east-2.compute.internal:32911 in memory (size: 11.6 MB, free: 5.4 GB)\n",
      "20/04/29 05:08:33 INFO TaskSetManager: Starting task 28.0 in stage 5.0 (TID 129, ip-172-31-40-99.us-east-2.compute.internal, executor 3, partition 28, RACK_LOCAL, 8274 bytes)\n",
      "20/04/29 05:08:33 INFO TaskSetManager: Finished task 20.0 in stage 5.0 (TID 121) in 3410 ms on ip-172-31-40-99.us-east-2.compute.internal (executor 3) (21/48)\n",
      "20/04/29 05:08:33 INFO BlockManagerInfo: Removed taskresult_121 on ip-172-31-40-99.us-east-2.compute.internal:32911 in memory (size: 7.9 MB, free: 5.4 GB)\n",
      "20/04/29 05:08:33 INFO BlockManagerInfo: Added taskresult_117 in memory on ip-172-31-40-99.us-east-2.compute.internal:32911 (size: 10.5 MB, free: 5.4 GB)\n",
      "20/04/29 05:08:33 INFO TaskSetManager: Starting task 29.0 in stage 5.0 (TID 130, ip-172-31-40-99.us-east-2.compute.internal, executor 3, partition 29, RACK_LOCAL, 8274 bytes)\n",
      "20/04/29 05:08:33 INFO TaskSetManager: Finished task 16.0 in stage 5.0 (TID 117) in 4058 ms on ip-172-31-40-99.us-east-2.compute.internal (executor 3) (22/48)\n",
      "20/04/29 05:08:33 INFO BlockManagerInfo: Removed taskresult_117 on ip-172-31-40-99.us-east-2.compute.internal:32911 in memory (size: 10.5 MB, free: 5.4 GB)\n",
      "20/04/29 05:08:34 INFO BlockManagerInfo: Added taskresult_124 in memory on ip-172-31-34-255.us-east-2.compute.internal:44195 (size: 10.8 MB, free: 5.4 GB)\n",
      "20/04/29 05:08:34 INFO TaskSetManager: Starting task 30.0 in stage 5.0 (TID 131, ip-172-31-34-255.us-east-2.compute.internal, executor 4, partition 30, RACK_LOCAL, 8274 bytes)\n",
      "20/04/29 05:08:34 INFO TaskSetManager: Finished task 23.0 in stage 5.0 (TID 124) in 3309 ms on ip-172-31-34-255.us-east-2.compute.internal (executor 4) (23/48)\n",
      "20/04/29 05:08:34 INFO BlockManagerInfo: Removed taskresult_124 on ip-172-31-34-255.us-east-2.compute.internal:44195 in memory (size: 10.8 MB, free: 5.4 GB)\n",
      "20/04/29 05:08:34 INFO BlockManagerInfo: Added taskresult_123 in memory on ip-172-31-34-255.us-east-2.compute.internal:44195 (size: 12.9 MB, free: 5.4 GB)\n",
      "20/04/29 05:08:34 INFO TaskSetManager: Starting task 31.0 in stage 5.0 (TID 132, ip-172-31-34-255.us-east-2.compute.internal, executor 4, partition 31, RACK_LOCAL, 8274 bytes)\n",
      "20/04/29 05:08:34 INFO TaskSetManager: Finished task 22.0 in stage 5.0 (TID 123) in 3697 ms on ip-172-31-34-255.us-east-2.compute.internal (executor 4) (24/48)\n",
      "20/04/29 05:08:34 INFO BlockManagerInfo: Removed taskresult_123 on ip-172-31-34-255.us-east-2.compute.internal:44195 in memory (size: 12.9 MB, free: 5.4 GB)\n",
      "20/04/29 05:08:36 INFO BlockManagerInfo: Added taskresult_125 in memory on ip-172-31-40-99.us-east-2.compute.internal:32911 (size: 7.8 MB, free: 5.4 GB)\n",
      "20/04/29 05:08:36 INFO TaskSetManager: Starting task 32.0 in stage 5.0 (TID 133, ip-172-31-40-99.us-east-2.compute.internal, executor 3, partition 32, RACK_LOCAL, 8274 bytes)\n",
      "20/04/29 05:08:36 INFO TaskSetManager: Finished task 24.0 in stage 5.0 (TID 125) in 3389 ms on ip-172-31-40-99.us-east-2.compute.internal (executor 3) (25/48)\n",
      "20/04/29 05:08:36 INFO BlockManagerInfo: Removed taskresult_125 on ip-172-31-40-99.us-east-2.compute.internal:32911 in memory (size: 7.8 MB, free: 5.4 GB)\n",
      "20/04/29 05:08:36 INFO BlockManagerInfo: Added taskresult_127 in memory on ip-172-31-34-255.us-east-2.compute.internal:44195 (size: 13.6 MB, free: 5.3 GB)\n",
      "20/04/29 05:08:36 INFO TaskSetManager: Starting task 33.0 in stage 5.0 (TID 134, ip-172-31-34-255.us-east-2.compute.internal, executor 4, partition 33, RACK_LOCAL, 8274 bytes)\n",
      "20/04/29 05:08:36 INFO TaskSetManager: Finished task 26.0 in stage 5.0 (TID 127) in 3179 ms on ip-172-31-34-255.us-east-2.compute.internal (executor 4) (26/48)\n",
      "20/04/29 05:08:36 INFO BlockManagerInfo: Removed taskresult_127 on ip-172-31-34-255.us-east-2.compute.internal:44195 in memory (size: 13.6 MB, free: 5.4 GB)\n",
      "20/04/29 05:08:36 INFO BlockManagerInfo: Added taskresult_128 in memory on ip-172-31-34-255.us-east-2.compute.internal:44195 (size: 12.2 MB, free: 5.4 GB)\n",
      "20/04/29 05:08:36 INFO TaskSetManager: Starting task 34.0 in stage 5.0 (TID 135, ip-172-31-34-255.us-east-2.compute.internal, executor 4, partition 34, RACK_LOCAL, 8274 bytes)\n",
      "20/04/29 05:08:36 INFO TaskSetManager: Finished task 27.0 in stage 5.0 (TID 128) in 3219 ms on ip-172-31-34-255.us-east-2.compute.internal (executor 4) (27/48)\n",
      "20/04/29 05:08:36 INFO BlockManagerInfo: Added taskresult_130 in memory on ip-172-31-40-99.us-east-2.compute.internal:32911 (size: 7.8 MB, free: 5.4 GB)\n",
      "20/04/29 05:08:36 INFO TaskSetManager: Starting task 35.0 in stage 5.0 (TID 136, ip-172-31-40-99.us-east-2.compute.internal, executor 3, partition 35, RACK_LOCAL, 8274 bytes)\n",
      "20/04/29 05:08:36 INFO BlockManagerInfo: Removed taskresult_128 on ip-172-31-34-255.us-east-2.compute.internal:44195 in memory (size: 12.2 MB, free: 5.4 GB)\n",
      "20/04/29 05:08:36 INFO TaskSetManager: Finished task 29.0 in stage 5.0 (TID 130) in 3093 ms on ip-172-31-40-99.us-east-2.compute.internal (executor 3) (28/48)\n",
      "20/04/29 05:08:36 INFO BlockManagerInfo: Removed taskresult_130 on ip-172-31-40-99.us-east-2.compute.internal:32911 in memory (size: 7.8 MB, free: 5.4 GB)\n",
      "20/04/29 05:08:37 INFO BlockManagerInfo: Added taskresult_129 in memory on ip-172-31-40-99.us-east-2.compute.internal:32911 (size: 8.7 MB, free: 5.4 GB)\n",
      "20/04/29 05:08:37 INFO TaskSetManager: Starting task 36.0 in stage 5.0 (TID 137, ip-172-31-40-99.us-east-2.compute.internal, executor 3, partition 36, RACK_LOCAL, 8274 bytes)\n",
      "20/04/29 05:08:37 INFO BlockManagerInfo: Added taskresult_126 in memory on ip-172-31-40-99.us-east-2.compute.internal:32911 (size: 7.5 MB, free: 5.3 GB)\n",
      "20/04/29 05:08:37 INFO TaskSetManager: Starting task 37.0 in stage 5.0 (TID 138, ip-172-31-40-99.us-east-2.compute.internal, executor 3, partition 37, RACK_LOCAL, 8274 bytes)\n",
      "20/04/29 05:08:37 INFO TaskSetManager: Finished task 28.0 in stage 5.0 (TID 129) in 3409 ms on ip-172-31-40-99.us-east-2.compute.internal (executor 3) (29/48)\n",
      "20/04/29 05:08:37 INFO BlockManagerInfo: Removed taskresult_129 on ip-172-31-40-99.us-east-2.compute.internal:32911 in memory (size: 8.7 MB, free: 5.4 GB)\n",
      "20/04/29 05:08:37 INFO TaskSetManager: Finished task 25.0 in stage 5.0 (TID 126) in 3589 ms on ip-172-31-40-99.us-east-2.compute.internal (executor 3) (30/48)\n",
      "20/04/29 05:08:37 INFO BlockManagerInfo: Removed taskresult_126 on ip-172-31-40-99.us-east-2.compute.internal:32911 in memory (size: 7.5 MB, free: 5.4 GB)\n",
      "20/04/29 05:08:37 INFO BlockManagerInfo: Added taskresult_131 in memory on ip-172-31-34-255.us-east-2.compute.internal:44195 (size: 9.3 MB, free: 5.4 GB)\n",
      "20/04/29 05:08:37 INFO TaskSetManager: Starting task 38.0 in stage 5.0 (TID 139, ip-172-31-34-255.us-east-2.compute.internal, executor 4, partition 38, RACK_LOCAL, 8274 bytes)\n",
      "20/04/29 05:08:37 INFO TaskSetManager: Finished task 30.0 in stage 5.0 (TID 131) in 3603 ms on ip-172-31-34-255.us-east-2.compute.internal (executor 4) (31/48)\n",
      "20/04/29 05:08:37 INFO BlockManagerInfo: Removed taskresult_131 on ip-172-31-34-255.us-east-2.compute.internal:44195 in memory (size: 9.3 MB, free: 5.4 GB)\n",
      "20/04/29 05:08:37 INFO BlockManagerInfo: Added taskresult_132 in memory on ip-172-31-34-255.us-east-2.compute.internal:44195 (size: 13.9 MB, free: 5.3 GB)\n",
      "20/04/29 05:08:37 INFO TaskSetManager: Starting task 39.0 in stage 5.0 (TID 140, ip-172-31-34-255.us-east-2.compute.internal, executor 4, partition 39, RACK_LOCAL, 8274 bytes)\n"
     ]
    }
   ],
   "source": [
    "text=review_pd['text'].values"
   ]
  },
  {
   "cell_type": "code",
   "execution_count": 26,
   "metadata": {},
   "outputs": [
    {
     "data": {
      "application/vnd.jupyter.widget-view+json": {
       "model_id": "108239174dd94279acc7e7f705bc8f35",
       "version_major": 2,
       "version_minor": 0
      },
      "text/plain": [
       "VBox()"
      ]
     },
     "metadata": {},
     "output_type": "display_data"
    },
    {
     "name": "stderr",
     "output_type": "stream",
     "text": [
      "An error was encountered:\n",
      "Session 1 unexpectedly reached final status 'error'. See logs:\n",
      "stdout: \n",
      "\n",
      "stderr: \n",
      "20/04/29 05:08:27 INFO BlockManagerInfo: Added taskresult_108 in memory on ip-172-31-34-255.us-east-2.compute.internal:44195 (size: 13.8 MB, free: 5.3 GB)\n",
      "20/04/29 05:08:27 INFO TaskSetManager: Starting task 15.0 in stage 5.0 (TID 116, ip-172-31-34-255.us-east-2.compute.internal, executor 4, partition 15, RACK_LOCAL, 8274 bytes)\n",
      "20/04/29 05:08:27 INFO TaskSetManager: Finished task 7.0 in stage 5.0 (TID 108) in 4605 ms on ip-172-31-34-255.us-east-2.compute.internal (executor 4) (8/48)\n",
      "20/04/29 05:08:27 INFO BlockManagerInfo: Removed taskresult_108 on ip-172-31-34-255.us-east-2.compute.internal:44195 in memory (size: 13.8 MB, free: 5.4 GB)\n",
      "20/04/29 05:08:29 INFO BlockManagerInfo: Added taskresult_110 in memory on ip-172-31-40-99.us-east-2.compute.internal:32911 (size: 8.3 MB, free: 5.4 GB)\n",
      "20/04/29 05:08:29 INFO TaskSetManager: Starting task 16.0 in stage 5.0 (TID 117, ip-172-31-40-99.us-east-2.compute.internal, executor 3, partition 16, RACK_LOCAL, 8274 bytes)\n",
      "20/04/29 05:08:29 INFO TaskSetManager: Finished task 9.0 in stage 5.0 (TID 110) in 3162 ms on ip-172-31-40-99.us-east-2.compute.internal (executor 3) (9/48)\n",
      "20/04/29 05:08:29 INFO BlockManagerInfo: Removed taskresult_110 on ip-172-31-40-99.us-east-2.compute.internal:32911 in memory (size: 8.3 MB, free: 5.4 GB)\n",
      "20/04/29 05:08:30 INFO BlockManagerInfo: Added taskresult_111 in memory on ip-172-31-34-255.us-east-2.compute.internal:44195 (size: 8.0 MB, free: 5.4 GB)\n",
      "20/04/29 05:08:30 INFO TaskSetManager: Starting task 17.0 in stage 5.0 (TID 118, ip-172-31-34-255.us-east-2.compute.internal, executor 4, partition 17, RACK_LOCAL, 8274 bytes)\n",
      "20/04/29 05:08:30 INFO TaskSetManager: Finished task 10.0 in stage 5.0 (TID 111) in 3489 ms on ip-172-31-34-255.us-east-2.compute.internal (executor 4) (10/48)\n",
      "20/04/29 05:08:30 INFO BlockManagerInfo: Added taskresult_109 in memory on ip-172-31-40-99.us-east-2.compute.internal:32911 (size: 13.5 MB, free: 5.3 GB)\n",
      "20/04/29 05:08:30 INFO TaskSetManager: Starting task 18.0 in stage 5.0 (TID 119, ip-172-31-40-99.us-east-2.compute.internal, executor 3, partition 18, RACK_LOCAL, 8274 bytes)\n",
      "20/04/29 05:08:30 INFO BlockManagerInfo: Removed taskresult_111 on ip-172-31-34-255.us-east-2.compute.internal:44195 in memory (size: 8.0 MB, free: 5.4 GB)\n",
      "20/04/29 05:08:30 INFO BlockManagerInfo: Added taskresult_114 in memory on ip-172-31-34-255.us-east-2.compute.internal:44195 (size: 11.6 MB, free: 5.4 GB)\n",
      "20/04/29 05:08:30 INFO TaskSetManager: Starting task 19.0 in stage 5.0 (TID 120, ip-172-31-34-255.us-east-2.compute.internal, executor 4, partition 19, RACK_LOCAL, 8274 bytes)\n",
      "20/04/29 05:08:30 INFO TaskSetManager: Finished task 8.0 in stage 5.0 (TID 109) in 3953 ms on ip-172-31-40-99.us-east-2.compute.internal (executor 3) (11/48)\n",
      "20/04/29 05:08:30 INFO BlockManagerInfo: Added taskresult_112 in memory on ip-172-31-40-99.us-east-2.compute.internal:32911 (size: 7.7 MB, free: 5.3 GB)\n",
      "20/04/29 05:08:30 INFO BlockManagerInfo: Removed taskresult_109 on ip-172-31-40-99.us-east-2.compute.internal:32911 in memory (size: 13.5 MB, free: 5.4 GB)\n",
      "20/04/29 05:08:30 INFO TaskSetManager: Starting task 20.0 in stage 5.0 (TID 121, ip-172-31-40-99.us-east-2.compute.internal, executor 3, partition 20, RACK_LOCAL, 8274 bytes)\n",
      "20/04/29 05:08:30 INFO TaskSetManager: Finished task 13.0 in stage 5.0 (TID 114) in 3334 ms on ip-172-31-34-255.us-east-2.compute.internal (executor 4) (12/48)\n",
      "20/04/29 05:08:30 INFO BlockManagerInfo: Removed taskresult_114 on ip-172-31-34-255.us-east-2.compute.internal:44195 in memory (size: 11.6 MB, free: 5.4 GB)\n",
      "20/04/29 05:08:30 INFO TaskSetManager: Finished task 11.0 in stage 5.0 (TID 112) in 3540 ms on ip-172-31-40-99.us-east-2.compute.internal (executor 3) (13/48)\n",
      "20/04/29 05:08:30 INFO BlockManagerInfo: Removed taskresult_112 on ip-172-31-40-99.us-east-2.compute.internal:32911 in memory (size: 7.7 MB, free: 5.4 GB)\n",
      "20/04/29 05:08:30 INFO BlockManagerInfo: Added taskresult_115 in memory on ip-172-31-40-99.us-east-2.compute.internal:32911 (size: 7.9 MB, free: 5.4 GB)\n",
      "20/04/29 05:08:30 INFO TaskSetManager: Starting task 21.0 in stage 5.0 (TID 122, ip-172-31-40-99.us-east-2.compute.internal, executor 3, partition 21, RACK_LOCAL, 8274 bytes)\n",
      "20/04/29 05:08:30 INFO TaskSetManager: Finished task 14.0 in stage 5.0 (TID 115) in 3382 ms on ip-172-31-40-99.us-east-2.compute.internal (executor 3) (14/48)\n",
      "20/04/29 05:08:30 INFO BlockManagerInfo: Removed taskresult_115 on ip-172-31-40-99.us-east-2.compute.internal:32911 in memory (size: 7.9 MB, free: 5.4 GB)\n",
      "20/04/29 05:08:30 INFO BlockManagerInfo: Added taskresult_113 in memory on ip-172-31-34-255.us-east-2.compute.internal:44195 (size: 15.9 MB, free: 5.3 GB)\n",
      "20/04/29 05:08:30 INFO TaskSetManager: Starting task 22.0 in stage 5.0 (TID 123, ip-172-31-34-255.us-east-2.compute.internal, executor 4, partition 22, RACK_LOCAL, 8274 bytes)\n",
      "20/04/29 05:08:30 INFO TaskSetManager: Finished task 12.0 in stage 5.0 (TID 113) in 3695 ms on ip-172-31-34-255.us-east-2.compute.internal (executor 4) (15/48)\n",
      "20/04/29 05:08:30 INFO BlockManagerInfo: Removed taskresult_113 on ip-172-31-34-255.us-east-2.compute.internal:44195 in memory (size: 15.9 MB, free: 5.4 GB)\n",
      "20/04/29 05:08:30 INFO BlockManagerInfo: Added taskresult_116 in memory on ip-172-31-34-255.us-east-2.compute.internal:44195 (size: 8.0 MB, free: 5.4 GB)\n",
      "20/04/29 05:08:30 INFO TaskSetManager: Starting task 23.0 in stage 5.0 (TID 124, ip-172-31-34-255.us-east-2.compute.internal, executor 4, partition 23, RACK_LOCAL, 8274 bytes)\n",
      "20/04/29 05:08:30 INFO TaskSetManager: Finished task 15.0 in stage 5.0 (TID 116) in 3237 ms on ip-172-31-34-255.us-east-2.compute.internal (executor 4) (16/48)\n",
      "20/04/29 05:08:30 INFO BlockManagerInfo: Removed taskresult_116 on ip-172-31-34-255.us-east-2.compute.internal:44195 in memory (size: 8.0 MB, free: 5.4 GB)\n",
      "20/04/29 05:08:33 INFO BlockManagerInfo: Added taskresult_119 in memory on ip-172-31-40-99.us-east-2.compute.internal:32911 (size: 12.1 MB, free: 5.4 GB)\n",
      "20/04/29 05:08:33 INFO TaskSetManager: Starting task 24.0 in stage 5.0 (TID 125, ip-172-31-40-99.us-east-2.compute.internal, executor 3, partition 24, RACK_LOCAL, 8274 bytes)\n",
      "20/04/29 05:08:33 INFO TaskSetManager: Finished task 18.0 in stage 5.0 (TID 119) in 3178 ms on ip-172-31-40-99.us-east-2.compute.internal (executor 3) (17/48)\n",
      "20/04/29 05:08:33 INFO BlockManagerInfo: Removed taskresult_119 on ip-172-31-40-99.us-east-2.compute.internal:32911 in memory (size: 12.1 MB, free: 5.4 GB)\n",
      "20/04/29 05:08:33 INFO BlockManagerInfo: Added taskresult_120 in memory on ip-172-31-34-255.us-east-2.compute.internal:44195 (size: 8.0 MB, free: 5.4 GB)\n",
      "20/04/29 05:08:33 INFO BlockManagerInfo: Added taskresult_122 in memory on ip-172-31-40-99.us-east-2.compute.internal:32911 (size: 11.6 MB, free: 5.4 GB)\n",
      "20/04/29 05:08:33 INFO TaskSetManager: Starting task 25.0 in stage 5.0 (TID 126, ip-172-31-40-99.us-east-2.compute.internal, executor 3, partition 25, RACK_LOCAL, 8274 bytes)\n",
      "20/04/29 05:08:33 INFO TaskSetManager: Starting task 26.0 in stage 5.0 (TID 127, ip-172-31-34-255.us-east-2.compute.internal, executor 4, partition 26, RACK_LOCAL, 8274 bytes)\n",
      "20/04/29 05:08:33 INFO BlockManagerInfo: Added taskresult_118 in memory on ip-172-31-34-255.us-east-2.compute.internal:44195 (size: 13.7 MB, free: 5.3 GB)\n",
      "20/04/29 05:08:33 INFO TaskSetManager: Starting task 27.0 in stage 5.0 (TID 128, ip-172-31-34-255.us-east-2.compute.internal, executor 4, partition 27, RACK_LOCAL, 8274 bytes)\n",
      "20/04/29 05:08:33 INFO TaskSetManager: Finished task 19.0 in stage 5.0 (TID 120) in 3420 ms on ip-172-31-34-255.us-east-2.compute.internal (executor 4) (18/48)\n",
      "20/04/29 05:08:33 INFO BlockManagerInfo: Removed taskresult_120 on ip-172-31-34-255.us-east-2.compute.internal:44195 in memory (size: 8.0 MB, free: 5.3 GB)\n",
      "20/04/29 05:08:33 INFO TaskSetManager: Finished task 17.0 in stage 5.0 (TID 118) in 3537 ms on ip-172-31-34-255.us-east-2.compute.internal (executor 4) (19/48)\n",
      "20/04/29 05:08:33 INFO BlockManagerInfo: Removed taskresult_118 on ip-172-31-34-255.us-east-2.compute.internal:44195 in memory (size: 13.7 MB, free: 5.4 GB)\n",
      "20/04/29 05:08:33 INFO BlockManagerInfo: Added taskresult_121 in memory on ip-172-31-40-99.us-east-2.compute.internal:32911 (size: 7.9 MB, free: 5.3 GB)\n",
      "20/04/29 05:08:33 INFO TaskSetManager: Finished task 21.0 in stage 5.0 (TID 122) in 3205 ms on ip-172-31-40-99.us-east-2.compute.internal (executor 3) (20/48)\n",
      "20/04/29 05:08:33 INFO BlockManagerInfo: Removed taskresult_122 on ip-172-31-40-99.us-east-2.compute.internal:32911 in memory (size: 11.6 MB, free: 5.4 GB)\n",
      "20/04/29 05:08:33 INFO TaskSetManager: Starting task 28.0 in stage 5.0 (TID 129, ip-172-31-40-99.us-east-2.compute.internal, executor 3, partition 28, RACK_LOCAL, 8274 bytes)\n",
      "20/04/29 05:08:33 INFO TaskSetManager: Finished task 20.0 in stage 5.0 (TID 121) in 3410 ms on ip-172-31-40-99.us-east-2.compute.internal (executor 3) (21/48)\n",
      "20/04/29 05:08:33 INFO BlockManagerInfo: Removed taskresult_121 on ip-172-31-40-99.us-east-2.compute.internal:32911 in memory (size: 7.9 MB, free: 5.4 GB)\n",
      "20/04/29 05:08:33 INFO BlockManagerInfo: Added taskresult_117 in memory on ip-172-31-40-99.us-east-2.compute.internal:32911 (size: 10.5 MB, free: 5.4 GB)\n",
      "20/04/29 05:08:33 INFO TaskSetManager: Starting task 29.0 in stage 5.0 (TID 130, ip-172-31-40-99.us-east-2.compute.internal, executor 3, partition 29, RACK_LOCAL, 8274 bytes)\n",
      "20/04/29 05:08:33 INFO TaskSetManager: Finished task 16.0 in stage 5.0 (TID 117) in 4058 ms on ip-172-31-40-99.us-east-2.compute.internal (executor 3) (22/48)\n",
      "20/04/29 05:08:33 INFO BlockManagerInfo: Removed taskresult_117 on ip-172-31-40-99.us-east-2.compute.internal:32911 in memory (size: 10.5 MB, free: 5.4 GB)\n",
      "20/04/29 05:08:34 INFO BlockManagerInfo: Added taskresult_124 in memory on ip-172-31-34-255.us-east-2.compute.internal:44195 (size: 10.8 MB, free: 5.4 GB)\n",
      "20/04/29 05:08:34 INFO TaskSetManager: Starting task 30.0 in stage 5.0 (TID 131, ip-172-31-34-255.us-east-2.compute.internal, executor 4, partition 30, RACK_LOCAL, 8274 bytes)\n",
      "20/04/29 05:08:34 INFO TaskSetManager: Finished task 23.0 in stage 5.0 (TID 124) in 3309 ms on ip-172-31-34-255.us-east-2.compute.internal (executor 4) (23/48)\n",
      "20/04/29 05:08:34 INFO BlockManagerInfo: Removed taskresult_124 on ip-172-31-34-255.us-east-2.compute.internal:44195 in memory (size: 10.8 MB, free: 5.4 GB)\n",
      "20/04/29 05:08:34 INFO BlockManagerInfo: Added taskresult_123 in memory on ip-172-31-34-255.us-east-2.compute.internal:44195 (size: 12.9 MB, free: 5.4 GB)\n",
      "20/04/29 05:08:34 INFO TaskSetManager: Starting task 31.0 in stage 5.0 (TID 132, ip-172-31-34-255.us-east-2.compute.internal, executor 4, partition 31, RACK_LOCAL, 8274 bytes)\n",
      "20/04/29 05:08:34 INFO TaskSetManager: Finished task 22.0 in stage 5.0 (TID 123) in 3697 ms on ip-172-31-34-255.us-east-2.compute.internal (executor 4) (24/48)\n",
      "20/04/29 05:08:34 INFO BlockManagerInfo: Removed taskresult_123 on ip-172-31-34-255.us-east-2.compute.internal:44195 in memory (size: 12.9 MB, free: 5.4 GB)\n",
      "20/04/29 05:08:36 INFO BlockManagerInfo: Added taskresult_125 in memory on ip-172-31-40-99.us-east-2.compute.internal:32911 (size: 7.8 MB, free: 5.4 GB)\n",
      "20/04/29 05:08:36 INFO TaskSetManager: Starting task 32.0 in stage 5.0 (TID 133, ip-172-31-40-99.us-east-2.compute.internal, executor 3, partition 32, RACK_LOCAL, 8274 bytes)\n",
      "20/04/29 05:08:36 INFO TaskSetManager: Finished task 24.0 in stage 5.0 (TID 125) in 3389 ms on ip-172-31-40-99.us-east-2.compute.internal (executor 3) (25/48)\n",
      "20/04/29 05:08:36 INFO BlockManagerInfo: Removed taskresult_125 on ip-172-31-40-99.us-east-2.compute.internal:32911 in memory (size: 7.8 MB, free: 5.4 GB)\n",
      "20/04/29 05:08:36 INFO BlockManagerInfo: Added taskresult_127 in memory on ip-172-31-34-255.us-east-2.compute.internal:44195 (size: 13.6 MB, free: 5.3 GB)\n",
      "20/04/29 05:08:36 INFO TaskSetManager: Starting task 33.0 in stage 5.0 (TID 134, ip-172-31-34-255.us-east-2.compute.internal, executor 4, partition 33, RACK_LOCAL, 8274 bytes)\n",
      "20/04/29 05:08:36 INFO TaskSetManager: Finished task 26.0 in stage 5.0 (TID 127) in 3179 ms on ip-172-31-34-255.us-east-2.compute.internal (executor 4) (26/48)\n",
      "20/04/29 05:08:36 INFO BlockManagerInfo: Removed taskresult_127 on ip-172-31-34-255.us-east-2.compute.internal:44195 in memory (size: 13.6 MB, free: 5.4 GB)\n",
      "20/04/29 05:08:36 INFO BlockManagerInfo: Added taskresult_128 in memory on ip-172-31-34-255.us-east-2.compute.internal:44195 (size: 12.2 MB, free: 5.4 GB)\n",
      "20/04/29 05:08:36 INFO TaskSetManager: Starting task 34.0 in stage 5.0 (TID 135, ip-172-31-34-255.us-east-2.compute.internal, executor 4, partition 34, RACK_LOCAL, 8274 bytes)\n",
      "20/04/29 05:08:36 INFO TaskSetManager: Finished task 27.0 in stage 5.0 (TID 128) in 3219 ms on ip-172-31-34-255.us-east-2.compute.internal (executor 4) (27/48)\n",
      "20/04/29 05:08:36 INFO BlockManagerInfo: Added taskresult_130 in memory on ip-172-31-40-99.us-east-2.compute.internal:32911 (size: 7.8 MB, free: 5.4 GB)\n",
      "20/04/29 05:08:36 INFO TaskSetManager: Starting task 35.0 in stage 5.0 (TID 136, ip-172-31-40-99.us-east-2.compute.internal, executor 3, partition 35, RACK_LOCAL, 8274 bytes)\n",
      "20/04/29 05:08:36 INFO BlockManagerInfo: Removed taskresult_128 on ip-172-31-34-255.us-east-2.compute.internal:44195 in memory (size: 12.2 MB, free: 5.4 GB)\n",
      "20/04/29 05:08:36 INFO TaskSetManager: Finished task 29.0 in stage 5.0 (TID 130) in 3093 ms on ip-172-31-40-99.us-east-2.compute.internal (executor 3) (28/48)\n",
      "20/04/29 05:08:36 INFO BlockManagerInfo: Removed taskresult_130 on ip-172-31-40-99.us-east-2.compute.internal:32911 in memory (size: 7.8 MB, free: 5.4 GB)\n",
      "20/04/29 05:08:37 INFO BlockManagerInfo: Added taskresult_129 in memory on ip-172-31-40-99.us-east-2.compute.internal:32911 (size: 8.7 MB, free: 5.4 GB)\n",
      "20/04/29 05:08:37 INFO TaskSetManager: Starting task 36.0 in stage 5.0 (TID 137, ip-172-31-40-99.us-east-2.compute.internal, executor 3, partition 36, RACK_LOCAL, 8274 bytes)\n",
      "20/04/29 05:08:37 INFO BlockManagerInfo: Added taskresult_126 in memory on ip-172-31-40-99.us-east-2.compute.internal:32911 (size: 7.5 MB, free: 5.3 GB)\n",
      "20/04/29 05:08:37 INFO TaskSetManager: Starting task 37.0 in stage 5.0 (TID 138, ip-172-31-40-99.us-east-2.compute.internal, executor 3, partition 37, RACK_LOCAL, 8274 bytes)\n",
      "20/04/29 05:08:37 INFO TaskSetManager: Finished task 28.0 in stage 5.0 (TID 129) in 3409 ms on ip-172-31-40-99.us-east-2.compute.internal (executor 3) (29/48)\n",
      "20/04/29 05:08:37 INFO BlockManagerInfo: Removed taskresult_129 on ip-172-31-40-99.us-east-2.compute.internal:32911 in memory (size: 8.7 MB, free: 5.4 GB)\n",
      "20/04/29 05:08:37 INFO TaskSetManager: Finished task 25.0 in stage 5.0 (TID 126) in 3589 ms on ip-172-31-40-99.us-east-2.compute.internal (executor 3) (30/48)\n",
      "20/04/29 05:08:37 INFO BlockManagerInfo: Removed taskresult_126 on ip-172-31-40-99.us-east-2.compute.internal:32911 in memory (size: 7.5 MB, free: 5.4 GB)\n",
      "20/04/29 05:08:37 INFO BlockManagerInfo: Added taskresult_131 in memory on ip-172-31-34-255.us-east-2.compute.internal:44195 (size: 9.3 MB, free: 5.4 GB)\n",
      "20/04/29 05:08:37 INFO TaskSetManager: Starting task 38.0 in stage 5.0 (TID 139, ip-172-31-34-255.us-east-2.compute.internal, executor 4, partition 38, RACK_LOCAL, 8274 bytes)\n",
      "20/04/29 05:08:37 INFO TaskSetManager: Finished task 30.0 in stage 5.0 (TID 131) in 3603 ms on ip-172-31-34-255.us-east-2.compute.internal (executor 4) (31/48)\n",
      "20/04/29 05:08:37 INFO BlockManagerInfo: Removed taskresult_131 on ip-172-31-34-255.us-east-2.compute.internal:44195 in memory (size: 9.3 MB, free: 5.4 GB)\n",
      "20/04/29 05:08:37 INFO BlockManagerInfo: Added taskresult_132 in memory on ip-172-31-34-255.us-east-2.compute.internal:44195 (size: 13.9 MB, free: 5.3 GB)\n",
      "20/04/29 05:08:37 INFO TaskSetManager: Starting task 39.0 in stage 5.0 (TID 140, ip-172-31-34-255.us-east-2.compute.internal, executor 4, partition 39, RACK_LOCAL, 8274 bytes)\n"
     ]
    }
   ],
   "source": [
    "text=[word.lower() for txt in text for word in txt.split(' ')]"
   ]
  },
  {
   "cell_type": "code",
   "execution_count": 1,
   "metadata": {},
   "outputs": [
    {
     "data": {
      "application/vnd.jupyter.widget-view+json": {
       "model_id": "8ae3159a79af4731a9fee5dcb26969d6",
       "version_major": 2,
       "version_minor": 0
      },
      "text/plain": [
       "VBox()"
      ]
     },
     "metadata": {},
     "output_type": "display_data"
    },
    {
     "name": "stdout",
     "output_type": "stream",
     "text": [
      "Starting Spark application\n"
     ]
    },
    {
     "data": {
      "text/html": [
       "<table>\n",
       "<tr><th>ID</th><th>YARN Application ID</th><th>Kind</th><th>State</th><th>Spark UI</th><th>Driver log</th><th>Current session?</th></tr><tr><td>1</td><td>application_1588125847343_0002</td><td>pyspark</td><td>idle</td><td><a target=\"_blank\" href=\"http://ip-172-31-44-174.us-east-2.compute.internal:20888/proxy/application_1588125847343_0002/\">Link</a></td><td><a target=\"_blank\" href=\"http://ip-172-31-34-255.us-east-2.compute.internal:8042/node/containerlogs/container_1588125847343_0002_01_000001/livy\">Link</a></td><td>✔</td></tr></table>"
      ],
      "text/plain": [
       "<IPython.core.display.HTML object>"
      ]
     },
     "metadata": {},
     "output_type": "display_data"
    },
    {
     "data": {
      "application/vnd.jupyter.widget-view+json": {
       "model_id": "",
       "version_major": 2,
       "version_minor": 0
      },
      "text/plain": [
       "FloatProgress(value=0.0, bar_style='info', description='Progress:', layout=Layout(height='25px', width='50%'),…"
      ]
     },
     "metadata": {},
     "output_type": "display_data"
    },
    {
     "name": "stdout",
     "output_type": "stream",
     "text": [
      "SparkSession available as 'spark'.\n"
     ]
    },
    {
     "data": {
      "application/vnd.jupyter.widget-view+json": {
       "model_id": "",
       "version_major": 2,
       "version_minor": 0
      },
      "text/plain": [
       "FloatProgress(value=0.0, bar_style='info', description='Progress:', layout=Layout(height='25px', width='50%'),…"
      ]
     },
     "metadata": {},
     "output_type": "display_data"
    },
    {
     "name": "stdout",
     "output_type": "stream",
     "text": [
      "hi"
     ]
    }
   ],
   "source": []
  },
  {
   "cell_type": "code",
   "execution_count": null,
   "metadata": {},
   "outputs": [],
   "source": []
  }
 ],
 "metadata": {
  "kernelspec": {
   "display_name": "Python 3",
   "language": "python",
   "name": "python3"
  },
  "language_info": {
   "codemirror_mode": {
    "name": "ipython",
    "version": 3
   },
   "file_extension": ".py",
   "mimetype": "text/x-python",
   "name": "python",
   "nbconvert_exporter": "python",
   "pygments_lexer": "ipython3",
   "version": "3.7.6"
  }
 },
 "nbformat": 4,
 "nbformat_minor": 4
}
